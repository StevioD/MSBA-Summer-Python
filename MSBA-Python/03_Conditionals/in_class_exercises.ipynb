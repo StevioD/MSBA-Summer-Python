{
 "cells": [
  {
   "cell_type": "markdown",
   "metadata": {},
   "source": [
    "## Writing if statements\n",
    "\n",
    "-First step to having your code make decisions\n",
    "\n",
    "-Executes code when one certain sets of conditions are true"
   ]
  },
  {
   "cell_type": "markdown",
   "metadata": {},
   "source": [
    "#### One condition:"
   ]
  },
  {
   "cell_type": "code",
   "execution_count": null,
   "metadata": {},
   "outputs": [],
   "source": [
    "# how to check if we should go skiing\n",
    "# But when is_snowing is false, no value is returned\n",
    "\n",
    "is_snowing = False\n",
    "\n",
    "if is_snowing:\n",
    "    print(\"Let's go skiing\")"
   ]
  },
  {
   "cell_type": "markdown",
   "metadata": {},
   "source": [
    "#### With else statement:"
   ]
  },
  {
   "cell_type": "code",
   "execution_count": null,
   "metadata": {},
   "outputs": [],
   "source": [
    "# we can expand on this with an else statement\n",
    "# this replaces 'otherwise' when making a decision\n",
    "is_snowing = False\n",
    "\n",
    "if is_snowing:\n",
    "    print(\"Let's go skiing\")\n",
    "else:\n",
    "    print(\"Let's go hiking\")\n",
    "        "
   ]
  },
  {
   "cell_type": "markdown",
   "metadata": {},
   "source": [
    "#### With elif statement:"
   ]
  },
  {
   "cell_type": "code",
   "execution_count": null,
   "metadata": {},
   "outputs": [],
   "source": [
    "# another layer to check conditions - the elif statement\n",
    "#\n",
    "\n",
    "is_snowing = True\n",
    "is_raining = True\n",
    "\n",
    "if is_snowing:\n",
    "    print(\"Let's go skiing\")\n",
    "elif is_raining:\n",
    "    print(\"Let's stay inside\")\n",
    "else: \n",
    "    print(\"Let's go hiking\")"
   ]
  },
  {
   "cell_type": "markdown",
   "metadata": {},
   "source": [
    "#### Using comparison operators"
   ]
  },
  {
   "cell_type": "code",
   "execution_count": null,
   "metadata": {},
   "outputs": [],
   "source": [
    "# temperature activity example "
   ]
  },
  {
   "cell_type": "code",
   "execution_count": null,
   "metadata": {},
   "outputs": [],
   "source": [
    "temp = 61\n",
    "\n",
    "if temp > 60 and temp < 90:\n",
    "    print(\"Let's go hiking\")\n",
    "elif temp > 90:\n",
    "    print(\"Let's go floating\")\n",
    "else:\n",
    "    print(\"something else\")\n"
   ]
  },
  {
   "cell_type": "code",
   "execution_count": null,
   "metadata": {},
   "outputs": [],
   "source": [
    "# month example\n",
    "\n",
    "month_number = 1000\n",
    "\n",
    "if month_number > 2 and month_number <= 5:\n",
    "    print(\"Spring\")\n",
    "if month_number > 5 and month_number <= 8:\n",
    "    print(\"Summer\")\n",
    "if month_number > 8 and month_number <= 11:\n",
    "    print(\"Fall\")\n",
    "if month_number == 12 or (month_number >= 1 and month_number <= 2):\n",
    "    print(\"Spring\")\n",
    "else:\n",
    "    print(\"invalid\")"
   ]
  },
  {
   "cell_type": "markdown",
   "metadata": {},
   "source": [
    "## Functions\n",
    "\n",
    "- Create reproducible code \n",
    "\n",
    "- Use flexible inputs to go through the same process"
   ]
  },
  {
   "cell_type": "markdown",
   "metadata": {},
   "source": [
    "### Function with no parameters:"
   ]
  },
  {
   "cell_type": "code",
   "execution_count": null,
   "metadata": {},
   "outputs": [],
   "source": [
    "# this function has no parameters\n",
    "\n",
    "def greeting():\n",
    "    print(\"Hey there\")"
   ]
  },
  {
   "cell_type": "code",
   "execution_count": null,
   "metadata": {},
   "outputs": [],
   "source": [
    "greeting()"
   ]
  },
  {
   "cell_type": "markdown",
   "metadata": {},
   "source": [
    "### Function with a parameter:"
   ]
  },
  {
   "cell_type": "code",
   "execution_count": null,
   "metadata": {},
   "outputs": [],
   "source": [
    "def greeting(name):\n",
    "    print(\"Hey there, \" + name)"
   ]
  },
  {
   "cell_type": "code",
   "execution_count": null,
   "metadata": {},
   "outputs": [],
   "source": [
    "greeting(\"Jake\")"
   ]
  },
  {
   "cell_type": "markdown",
   "metadata": {},
   "source": [
    "### Function with a default parameter:"
   ]
  },
  {
   "cell_type": "code",
   "execution_count": null,
   "metadata": {},
   "outputs": [],
   "source": [
    "def greeting(name = \"Jake\"):\n",
    "    print(\"Hey there, \" + name)"
   ]
  },
  {
   "cell_type": "code",
   "execution_count": null,
   "metadata": {},
   "outputs": [],
   "source": [
    "greeting()"
   ]
  },
  {
   "cell_type": "markdown",
   "metadata": {},
   "source": [
    "### Return in place of print( )"
   ]
  },
  {
   "cell_type": "code",
   "execution_count": null,
   "metadata": {},
   "outputs": [],
   "source": [
    "# the function below doesn't return any value\n",
    "# we are telling python to subtract, but aren't telling it to do anything with the value\n",
    "\n",
    "def subtract(a,b):\n",
    "    a-b"
   ]
  },
  {
   "cell_type": "code",
   "execution_count": null,
   "metadata": {},
   "outputs": [],
   "source": [
    "subtract(5,2)"
   ]
  },
  {
   "cell_type": "code",
   "execution_count": null,
   "metadata": {},
   "outputs": [],
   "source": [
    "# But using return makes functions more efficient\n",
    "\n",
    "def subtract(a,b):\n",
    "     c = a-b\n",
    "    return c\n",
    "subtract(5,2)"
   ]
  },
  {
   "cell_type": "markdown",
   "metadata": {},
   "source": [
    "### Global vs Local Scope"
   ]
  },
  {
   "cell_type": "code",
   "execution_count": null,
   "metadata": {},
   "outputs": [],
   "source": [
    "# declared outside a function, this is in the global scope\n",
    "x = 3"
   ]
  },
  {
   "cell_type": "code",
   "execution_count": null,
   "metadata": {},
   "outputs": [],
   "source": [
    "# global variables can be used inside functions, while local variables don't exist outside the function\n",
    "\n",
    "def subtract_some_more(a,b):\n",
    "    c = a-b\n",
    "    return c-x\n",
    "\n",
    "\n",
    "subtract_some_more(5,2)"
   ]
  },
  {
   "cell_type": "code",
   "execution_count": null,
   "metadata": {},
   "outputs": [],
   "source": [
    "# c was not declared in the global scope, so we can't print it outside of the function\n",
    "print(x)\n",
    "print(c)"
   ]
  },
  {
   "cell_type": "markdown",
   "metadata": {},
   "source": [
    "### Docstrings"
   ]
  },
  {
   "cell_type": "code",
   "execution_count": null,
   "metadata": {},
   "outputs": [],
   "source": [
    "# you can also add a docstring for documentation later\n",
    "def is_even(x):\n",
    "    \"\"\"\n",
    "    This function uses the modulo operator\n",
    "    determine whether or not a value is even.\n",
    "    \"\"\"\n",
    "    if x % 2 == 0:\n",
    "        return True\n",
    "    else:\n",
    "        return False"
   ]
  },
  {
   "cell_type": "code",
   "execution_count": null,
   "metadata": {},
   "outputs": [],
   "source": [
    "is_even(3)"
   ]
  },
  {
   "cell_type": "code",
   "execution_count": null,
   "metadata": {},
   "outputs": [],
   "source": [
    "help(is_even)"
   ]
  },
  {
   "cell_type": "markdown",
   "metadata": {},
   "source": [
    "### Further Examples"
   ]
  },
  {
   "attachments": {
    "image.png": {
     "image/png": "[encoded data removed]"
    }
   },
   "cell_type": "markdown",
   "metadata": {},
   "source": [
    "![image.png](attachment:image.png)\n"
   ]
  },
  {
   "cell_type": "code",
   "execution_count": null,
   "metadata": {},
   "outputs": [],
   "source": [
    "def temperature_conversion(f): \n",
    "    temp = (f-32)*(5/9) \n",
    "    temp = round(temp,2)\n",
    "    return \"This is \"+str(temp)+\" in celsius\"\n",
    "\n"
   ]
  },
  {
   "cell_type": "code",
   "execution_count": null,
   "metadata": {},
   "outputs": [],
   "source": [
    "temperature_conversion(35)"
   ]
  },
  {
   "cell_type": "code",
   "execution_count": null,
   "metadata": {},
   "outputs": [],
   "source": [
    "product_name = 'product_x'\n",
    "product_net_sales = 31050\n",
    "product_cogs = 16780\n"
   ]
  },
  {
   "cell_type": "code",
   "execution_count": null,
   "metadata": {},
   "outputs": [],
   "source": [
    "def margin_calculator(name = 'product_z', sales = 10000, cogs = 5000):\n",
    "    margin = (sales - cogs)/sales\n",
    "    margin = round(margin,2)\n",
    "    \n",
    "    return margin"
   ]
  },
  {
   "cell_type": "code",
   "execution_count": null,
   "metadata": {},
   "outputs": [],
   "source": [
    "margin_calculator(2000)"
   ]
  },
  {
   "cell_type": "markdown",
   "metadata": {},
   "source": [
    "## Wrapping if Statements In Functions\n"
   ]
  },
  {
   "cell_type": "code",
   "execution_count": null,
   "metadata": {},
   "outputs": [],
   "source": [
    "# example from the deck"
   ]
  },
  {
   "cell_type": "code",
   "execution_count": null,
   "metadata": {},
   "outputs": [],
   "source": [
    "def activity_choice(is_snowing, is_raining, temp):\n",
    "    if is_snowing:\n",
    "        if temp < 0:\n",
    "            print(\"we're staying inside\")\n",
    "        else:\n",
    "            print(\"Let's go skiing\")\n",
    "    elif is_raining:\n",
    "        print(\"Let's stay inside\")\n",
    "    else: \n",
    "        print(\"Let's go hiking\")"
   ]
  },
  {
   "cell_type": "code",
   "execution_count": null,
   "metadata": {},
   "outputs": [],
   "source": [
    "activity_choice(is_snowing=True, is_raining=False, temp = -1)"
   ]
  },
  {
   "cell_type": "markdown",
   "metadata": {},
   "source": [
    "We need a function that determines when your alarm clock should go off, depending on the day of week (0-6) and whether or not you are on vacation (True or False).\n",
    "\n",
    "On weekends (0 & 6), normally it should go off at 9 am, but when you’re on vacation it is off entirely.\n",
    "On weekdays (1-5), normally it should go off at 6 am, but when you’re on vacation it is set to 9 am.\n"
   ]
  },
  {
   "cell_type": "code",
   "execution_count": null,
   "metadata": {},
   "outputs": [],
   "source": [
    "\n",
    "def alarm_clock(vacation, day = input()):\n",
    "    if vacation == True:\n",
    "        if day == 0 or day == 6:\n",
    "            print(\"Off\")\n",
    "        else:\n",
    "            print(\"9 am\")\n",
    "    else:\n",
    "        if day == 0 or day == 6:\n",
    "            print(\"9 am\")\n",
    "        else:\n",
    "            print(\"6 am\")"
   ]
  },
  {
   "cell_type": "code",
   "execution_count": null,
   "metadata": {},
   "outputs": [],
   "source": [
    "alarm_clock(vacation = True)"
   ]
  },
  {
   "cell_type": "code",
   "execution_count": null,
   "metadata": {},
   "outputs": [],
   "source": [
    "## shipping cost example\n",
    "\n",
    "def shipping_costs(in_country,total):\n",
    "    if in_country == True:\n",
    "        if total > 0 and total < 50:           \n",
    "            return total*.1\n",
    "        elif total >= 50 and total < 150:\n",
    "            return total*.05\n",
    "        else:\n",
    "            return \"Free Shipping\"\n",
    "    else:\n",
    "        if total > 0 and total < 50:           \n",
    "            return total*.2\n",
    "        elif total >= 50 and total < 150:\n",
    "            return total*.1\n",
    "        else:\n",
    "            return \"Free Shipping\"\n"
   ]
  }
 ],
 "metadata": {
  "kernelspec": {
   "display_name": "Python 3",
   "language": "python",
   "name": "python3"
  },
  "language_info": {
   "codemirror_mode": {
    "name": "ipython",
    "version": 3
   },
   "file_extension": ".py",
   "mimetype": "text/x-python",
   "name": "python",
   "nbconvert_exporter": "python",
   "pygments_lexer": "ipython3",
   "version": "3.8.0"
  }
 },
 "nbformat": 4,
 "nbformat_minor": 2
}
