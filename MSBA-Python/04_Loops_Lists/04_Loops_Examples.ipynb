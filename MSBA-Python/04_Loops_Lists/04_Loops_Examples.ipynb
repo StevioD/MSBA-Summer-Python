{
 "cells": [
  {
   "cell_type": "markdown",
   "metadata": {},
   "source": [
    "### Types of Loops"
   ]
  },
  {
   "cell_type": "markdown",
   "metadata": {},
   "source": [
    "#### for loop\n",
    "Iterates over a sequence and executes an action.\n",
    "\n",
    "#### while loop\n",
    "Repeats a statement or group of statements while a given condition is TRUE. It tests the condition before executing the loop body.\n",
    "\n",
    "#### nested loops\n",
    "You can use one or more loop inside any another while or for loop."
   ]
  },
  {
   "cell_type": "markdown",
   "metadata": {},
   "source": [
    "#### break statement\n",
    "Terminates the loop statement and transfers execution to the statement immediately following the loop.\n",
    "\n",
    "#### continue statement\n",
    "Causes the loop to skip the remainder of its body and immediately retest its condition prior to reiterating.\n",
    "\n",
    "#### pass statement\n",
    "The pass statement in Python is used when a statement is required syntactically but you do not want any command or code to execute."
   ]
  },
  {
   "cell_type": "markdown",
   "metadata": {},
   "source": [
    "While Loop Examples"
   ]
  },
  {
   "cell_type": "code",
   "execution_count": null,
   "metadata": {},
   "outputs": [],
   "source": [
    "i = 1\n",
    "while i < 2:\n",
    "  print(i)\n",
    "  i = i + 1"
   ]
  },
  {
   "cell_type": "code",
   "execution_count": null,
   "metadata": {},
   "outputs": [],
   "source": [
    "i = 1\n",
    "while i < 6:\n",
    "  print(i)\n",
    "  if i == 3:\n",
    "    break \n",
    "  i += 1 "
   ]
  },
  {
   "cell_type": "code",
   "execution_count": null,
   "metadata": {},
   "outputs": [],
   "source": [
    "i = 1\n",
    "while i < 6:\n",
    "  print(i)\n",
    "  i += 1\n",
    "else:\n",
    "  print(\"i is no longer less than 6\")"
   ]
  },
  {
   "cell_type": "code",
   "execution_count": null,
   "metadata": {},
   "outputs": [],
   "source": [
    "## For Loop Example\n",
    "for number in range(1,6):\n",
    "    print(number)"
   ]
  },
  {
   "cell_type": "code",
   "execution_count": null,
   "metadata": {},
   "outputs": [],
   "source": [
    "for number in range(6):\n",
    "    print(number)"
   ]
  },
  {
   "cell_type": "code",
   "execution_count": null,
   "metadata": {},
   "outputs": [],
   "source": [
    "## Break Statement\n",
    "\n",
    "for letter in 'student':    \n",
    "   if letter == 'd':\n",
    "      break\n",
    "   print('Current Letter :', letter)"
   ]
  },
  {
   "cell_type": "code",
   "execution_count": null,
   "metadata": {},
   "outputs": [],
   "source": [
    "## Continue Statement\n",
    "\n",
    "num = 10                    \n",
    "while num > 0:              \n",
    "    num = num - 1\n",
    "    if num == 5:\n",
    "      continue\n",
    "    print('Current number value :', num)\n",
    "print(\"All Done\")"
   ]
  },
  {
   "cell_type": "code",
   "execution_count": null,
   "metadata": {},
   "outputs": [],
   "source": [
    "## Enumerate vs Range  "
   ]
  },
  {
   "cell_type": "code",
   "execution_count": null,
   "metadata": {},
   "outputs": [],
   "source": [
    "supplies = ['pens', 'staplers', 'flamethrowers', 'binders']\n",
    "\n",
    "for item in range(len(supplies)):\n",
    "    print(item)\n",
    "    \n",
    "#for item in supplies: \n",
    "#    print(item)"
   ]
  },
  {
   "cell_type": "code",
   "execution_count": null,
   "metadata": {},
   "outputs": [],
   "source": [
    "## The enumerate() function is useful if you need both the item and the item’s index in the loop’s block."
   ]
  },
  {
   "cell_type": "code",
   "execution_count": null,
   "metadata": {},
   "outputs": [],
   "source": [
    "supplies = ['pens', 'staplers', 'flamethrowers', 'binders']\n",
    "for index, item in enumerate(supplies):\n",
    "    print('Index ' + str(index) + ' in supplies is: ' + item)"
   ]
  },
  {
   "cell_type": "code",
   "execution_count": null,
   "metadata": {},
   "outputs": [],
   "source": [
    "## Iterating over 2 lists\n",
    "\n",
    "words1 = [\"cup\", \"bottle\", \"table\", \"rock\", \"apple\"]\n",
    "words2 = [\"trousers\", \"nail\", \"head\", \"water\", \"sail\"]\n",
    "\n",
    "### how would we loop over these? \n"
   ]
  },
  {
   "cell_type": "code",
   "execution_count": null,
   "metadata": {},
   "outputs": [],
   "source": [
    "## One method that uses the zip function\n",
    "for w1, w2 in zip(words1, words2):\n",
    "    print(w1, w2) "
   ]
  },
  {
   "cell_type": "code",
   "execution_count": null,
   "metadata": {},
   "outputs": [],
   "source": [
    "## Antonio's crafty method that uses the length of the list to printo out each value in the lists\n",
    "for index in range(0,len(words1)):\n",
    "    print(words1[index],words2[index])"
   ]
  },
  {
   "cell_type": "code",
   "execution_count": null,
   "metadata": {},
   "outputs": [],
   "source": [
    "## Breakout Room examples"
   ]
  },
  {
   "cell_type": "code",
   "execution_count": null,
   "metadata": {},
   "outputs": [],
   "source": [
    "## Write a loop that iterates over the list and returns it's index; try with and without the enumeration function\n",
    "list1 = ['dog', 5, 'taco', 8]"
   ]
  },
  {
   "cell_type": "code",
   "execution_count": null,
   "metadata": {},
   "outputs": [],
   "source": [
    "# SOLUTION\n",
    "for item in list1:\n",
    "    index = list1.index(item)\n",
    "    print(index)\n",
    "    \n",
    "for index, item in enumerate(list1):\n",
    "    print(index)"
   ]
  },
  {
   "cell_type": "code",
   "execution_count": null,
   "metadata": {},
   "outputs": [],
   "source": [
    "## Write a for loop that iterates over list of numbers list and prints the positive ones and \n",
    "## appends them to a new list\n",
    "nums = [-1, 3, 4, 5, -10, 9, 12, -15]"
   ]
  },
  {
   "cell_type": "code",
   "execution_count": null,
   "metadata": {},
   "outputs": [],
   "source": [
    "## Solution\n",
    "\n",
    "positive_nums = []\n",
    "\n",
    "for number in nums: \n",
    "    if number > 0:\n",
    "        print(number)\n",
    "        positive_nums.append(number)\n",
    "        \n",
    "print(positive_nums)"
   ]
  },
  {
   "cell_type": "code",
   "execution_count": null,
   "metadata": {},
   "outputs": [],
   "source": [
    "# Write the for loop above as a list comprehension and save positive numbers as a new variable\n",
    "positive_nums = [x for x in nums if x > 0] \n",
    "print(positive_nums)"
   ]
  },
  {
   "cell_type": "code",
   "execution_count": null,
   "metadata": {},
   "outputs": [],
   "source": [
    "## Revisiting an example we used before, \n",
    "## use a list comprehension to remove all the 2's from the list\n",
    "numList = [1, 1, 2, 4, 5, 6, 8, 4, 2, 3, 2]"
   ]
  },
  {
   "cell_type": "code",
   "execution_count": null,
   "metadata": {},
   "outputs": [],
   "source": [
    "newList = [number for number in numList if number != 2]\n",
    "print(newList)"
   ]
  },
  {
   "cell_type": "code",
   "execution_count": null,
   "metadata": {},
   "outputs": [],
   "source": [
    "## Use a for loop to count the number of elements in the list of numbers below; \n",
    "## print out the count\n",
    "\n",
    "numbers2 = list(range(1, 20))\n",
    "\n",
    "count = 0\n",
    "for element in numbers2:\n",
    "    count += 1\n",
    "print(count)"
   ]
  },
  {
   "cell_type": "code",
   "execution_count": null,
   "metadata": {},
   "outputs": [],
   "source": [
    "#rewrite the above as a for loop\n",
    "count = 0\n",
    "while count < 19:\n",
    "    count += 1  # same code:  count = count + 1\n",
    "print(count)"
   ]
  },
  {
   "cell_type": "code",
   "execution_count": null,
   "metadata": {},
   "outputs": [],
   "source": [
    "def count_negatives(nums):\n",
    "    \"\"\"Return the number of negative numbers in the given list.\n",
    "    \n",
    "    >>> count_negatives([5, -1, -2, 0, 3])\n",
    "    2\n",
    "    \"\"\"\n",
    "    n_negative = 0\n",
    "    for num in nums:\n",
    "        if num < 0:\n",
    "            n_negative = n_negative + 1\n",
    "    return n_negative"
   ]
  },
  {
   "cell_type": "code",
   "execution_count": null,
   "metadata": {},
   "outputs": [],
   "source": [
    "Rewrite the function above using a list comprehension:"
   ]
  },
  {
   "cell_type": "code",
   "execution_count": null,
   "metadata": {},
   "outputs": [],
   "source": [
    "### What I did incorrectly in class: Swapped the 'for' for an 'in', see how there are two of them?.... whoops!\n",
    "def count_negatives(nums):\n",
    "    return len([num in num in nums if num < 0])"
   ]
  },
  {
   "cell_type": "code",
   "execution_count": null,
   "metadata": {},
   "outputs": [],
   "source": [
    "## CORRECT WAY TO DO IT :) \n",
    "def count_negatives(nums):\n",
    "    return len([num for num in nums if num < 0])"
   ]
  }
 ],
 "metadata": {
  "kernelspec": {
   "display_name": "Python 3",
   "language": "python",
   "name": "python3"
  },
  "language_info": {
   "codemirror_mode": {
    "name": "ipython",
    "version": 3
   },
   "file_extension": ".py",
   "mimetype": "text/x-python",
   "name": "python",
   "nbconvert_exporter": "python",
   "pygments_lexer": "ipython3",
   "version": "3.8.5"
  }
 },
 "nbformat": 4,
 "nbformat_minor": 4
}
