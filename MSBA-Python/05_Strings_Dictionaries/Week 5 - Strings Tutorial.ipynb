{
 "cells": [
  {
   "cell_type": "markdown",
   "metadata": {},
   "source": [
    "Recap From Last Week"
   ]
  },
  {
   "cell_type": "code",
   "execution_count": null,
   "metadata": {},
   "outputs": [],
   "source": [
    "## Revisiting list comprehension from last week:\n",
    "\n",
    "def count_negatives(nums):\n",
    "    \"\"\"Return the number of negative numbers in the given list.\n",
    "    \n",
    "    >>> count_negatives([5, -1, -2, 0, 3])\n",
    "    2\n",
    "    \"\"\"\n",
    "    n_negative = 0\n",
    "    for num in nums:\n",
    "        if num < 0:\n",
    "            n_negative = n_negative + 1\n",
    "    return n_negative"
   ]
  },
  {
   "cell_type": "code",
   "execution_count": null,
   "metadata": {},
   "outputs": [],
   "source": [
    "## re-write the function above using list comprehenion\n",
    "nums = [5, -1, -2, 0, 3]\n",
    "\n",
    "def count_negatives(nums):\n",
    "    return len([num for num in nums if num < 0])"
   ]
  },
  {
   "cell_type": "code",
   "execution_count": null,
   "metadata": {},
   "outputs": [],
   "source": [
    "num              ## we want the number\n",
    "for num in nums  ## for every number in the nums list\n",
    "if num < 0       ## but only if it's less than 2 i.e. a negative\n",
    "len()            ## how many of them are there? This length piece is simpler than this \"n_negative = n_negative + 1\"\n",
    "return           ## return me that value"
   ]
  },
  {
   "cell_type": "markdown",
   "metadata": {},
   "source": [
    "### Immutable vs Mutable"
   ]
  },
  {
   "cell_type": "markdown",
   "metadata": {},
   "source": [
    "\n",
    "_Mutable Objects:_ Can change their state or contents\n",
    "\n",
    "* Lists, dictionaries, sets \n",
    "\n",
    "_Immutable Objects:_ Types that cannot be changed once they are created\n",
    "\n",
    "* Integer, float, string, bool, tuple\n"
   ]
  },
  {
   "cell_type": "code",
   "execution_count": null,
   "metadata": {},
   "outputs": [],
   "source": [
    "tuple1 = (0, 1, 2, 3) \n",
    "tuple1[0] = 4"
   ]
  },
  {
   "cell_type": "code",
   "execution_count": null,
   "metadata": {},
   "outputs": [],
   "source": [
    "list1 = [1, 2, 3, 4]\n",
    "list1[0] = 10\n",
    "print(list1)"
   ]
  },
  {
   "cell_type": "markdown",
   "metadata": {},
   "source": [
    "__A Warning When Iterating Over Lists__\n",
    "\n",
    "Do not mutate lists as you iterate over them.  Here's why:"
   ]
  },
  {
   "cell_type": "code",
   "execution_count": null,
   "metadata": {},
   "outputs": [],
   "source": [
    "L1 = [1, 2, 3, 4]\n",
    "L2= [1, 2, 5, 6]"
   ]
  },
  {
   "cell_type": "code",
   "execution_count": null,
   "metadata": {
    "scrolled": true
   },
   "outputs": [],
   "source": [
    "## Remove any element in L1 that appears in L2 and then print the list\n",
    "\n",
    "for e in L1: \n",
    "    if e in L2:\n",
    "        L1.remove(e)\n",
    "        \n",
    "print(L1)"
   ]
  },
  {
   "cell_type": "markdown",
   "metadata": {},
   "source": [
    "Why is the 2 still in there since it appears in both? \n",
    "\n",
    "Python uses an internal counter to keep track of index it is in the loop: \n",
    "\n",
    "* mutating changes the list length but Python doesn’t update the counter\n",
    "* the loop does not see element 2"
   ]
  },
  {
   "cell_type": "code",
   "execution_count": null,
   "metadata": {},
   "outputs": [],
   "source": [
    "L1_copy = L1[:] ## slice out all values from L1 \n",
    "#L1_copy1 = L1\n",
    "\n",
    "for e in L1_copy:\n",
    "    if e in L2:\n",
    "        L1.remove(e)\n",
    "print(L1)"
   ]
  },
  {
   "cell_type": "code",
   "execution_count": null,
   "metadata": {},
   "outputs": [],
   "source": [
    "### Go to Slide Deck"
   ]
  },
  {
   "cell_type": "markdown",
   "metadata": {},
   "source": [
    "__Basic String Operations__"
   ]
  },
  {
   "cell_type": "code",
   "execution_count": null,
   "metadata": {},
   "outputs": [],
   "source": [
    "## Add in a backslash to let Python know that the second ' is part of the string \n",
    "#text = 'That is Josh\\'s cat.'\n",
    "#print(text)\n",
    "\n",
    "#text = \"That is Josh\\\"s cat.\" ## Can also do it with \"\"\n",
    "\n",
    "text = '''That is Joshs\n",
    "cat.'''          # \\n creates a new line\n"
   ]
  },
  {
   "cell_type": "code",
   "execution_count": null,
   "metadata": {},
   "outputs": [],
   "source": [
    "text = \"That is Josh's cat\""
   ]
  },
  {
   "cell_type": "code",
   "execution_count": null,
   "metadata": {},
   "outputs": [],
   "source": [
    "## Indexing & Slicing\n",
    "text = 'thats my cat'\n",
    "print(text[1])\n",
    "print(text[:5])"
   ]
  },
  {
   "cell_type": "code",
   "execution_count": null,
   "metadata": {},
   "outputs": [],
   "source": [
    "note = \"Let us run some tests on this string\"\n",
    "\n",
    "#note.upper()#\n",
    "#print(note.split(\" \"))\n",
    "#.0print(note.find(\"Let\"))   #returns index\n",
    "\n",
    "#print(note)"
   ]
  },
  {
   "cell_type": "code",
   "execution_count": null,
   "metadata": {},
   "outputs": [],
   "source": [
    "## STRIP SYNTAX\n",
    "string.strip(characters)\n",
    "\n",
    "## Strip lets you remove characters from strings"
   ]
  },
  {
   "cell_type": "code",
   "execution_count": null,
   "metadata": {},
   "outputs": [],
   "source": [
    "text = \"......banana....rrr\"\n",
    "\n",
    "x = text.strip(\",\")\n",
    "\n",
    "print(x)"
   ]
  },
  {
   "cell_type": "code",
   "execution_count": null,
   "metadata": {},
   "outputs": [],
   "source": [
    "text = \"banana,,,,,rrttgg.....banana....rrr\"\n",
    "\n",
    "x = text.strip(\"banana\")  \n",
    "\n",
    "print(x)"
   ]
  },
  {
   "cell_type": "code",
   "execution_count": null,
   "metadata": {},
   "outputs": [],
   "source": [
    "## REPLACE SYNTAX\n",
    "string.replace(oldvalue, newvalue, count)\n",
    "\n",
    "## Allows you to replace old values with a new one"
   ]
  },
  {
   "cell_type": "code",
   "execution_count": null,
   "metadata": {},
   "outputs": [],
   "source": [
    "txt = \"hello there hello hello\"\n",
    "\n",
    "#txt.replace(\"hello\", \"h\")\n",
    "txt.replace(\"hello\", \"hi\", 2)"
   ]
  },
  {
   "cell_type": "markdown",
   "metadata": {},
   "source": [
    "Convert string to list with list():\n",
    "* returns a list with every\n",
    "* character from the string"
   ]
  },
  {
   "cell_type": "code",
   "execution_count": null,
   "metadata": {},
   "outputs": [],
   "source": [
    "word = \"Whatsup\"\n",
    "list(word)"
   ]
  },
  {
   "cell_type": "markdown",
   "metadata": {},
   "source": [
    "Can use word.split(), to split a string on a character parameter\n",
    "(note: splits on spaces if called without a parameter)"
   ]
  },
  {
   "cell_type": "code",
   "execution_count": null,
   "metadata": {},
   "outputs": [],
   "source": [
    "## SPLIT SYNTAX\n",
    "string.split(separator, maxsplit)  ## Note: maxsplit is optional but can be used to specify how many splits to do\n",
    "\n",
    "# Can use word.split(), to split a string on a character parameter \n",
    "# (note: splits on spaces if called without a parameter)"
   ]
  },
  {
   "cell_type": "code",
   "execution_count": null,
   "metadata": {},
   "outputs": [],
   "source": [
    "word = \"Whatsup\"\n",
    "print(word.split(\"s\"))\n",
    "#word.split()\n",
    "\n",
    "#print(word)"
   ]
  },
  {
   "cell_type": "markdown",
   "metadata": {},
   "source": [
    "Notice that the \"s\" does not appear in the list."
   ]
  },
  {
   "cell_type": "markdown",
   "metadata": {},
   "source": [
    "Use ''.join(word) to turn a list of characters into a string, \n",
    "can give a character in quotes to add char between every element\n",
    "(essentially the opposite of split)"
   ]
  },
  {
   "cell_type": "code",
   "execution_count": null,
   "metadata": {},
   "outputs": [],
   "source": [
    "letters = ['x', 'y', 'z']\n",
    "new = ','.join(letters)\n",
    "print(new)"
   ]
  },
  {
   "cell_type": "code",
   "execution_count": null,
   "metadata": {},
   "outputs": [],
   "source": [
    "## isX methods\n",
    "\n",
    "isalpha() # Returns True if the string consists only of letters and isn’t blank\n",
    "\n",
    "isalnum() # Returns True if the string consists only of letters and numbers and is not blank\n",
    "\n",
    "isdecimal() # Returns True if the string consists only of numeric characters and is not blank\n"
   ]
  },
  {
   "cell_type": "code",
   "execution_count": null,
   "metadata": {},
   "outputs": [],
   "source": [
    "## fun one for age & password inputs\n",
    "\n",
    "while True:\n",
    "    print('Enter your age:')\n",
    "    age = input()\n",
    "    if age.isdecimal():\n",
    "        break\n",
    "    print('Please enter a number for your age.')\n",
    "\n",
    "while True:\n",
    "    print('Select a new password (letters and numbers only):')\n",
    "    password = input()\n",
    "    if password.isalnum():\n",
    "        break\n",
    "    print('Passwords can only have letters and numbers.')"
   ]
  },
  {
   "cell_type": "code",
   "execution_count": null,
   "metadata": {},
   "outputs": [],
   "source": [
    "### Test out some problems in breakout rooms ###"
   ]
  },
  {
   "cell_type": "code",
   "execution_count": null,
   "metadata": {},
   "outputs": [],
   "source": [
    "## Question 1\n",
    "\n",
    "### Use a loop to remove all the commas out of the strings below and save them to a new list: \n",
    "\n",
    "note = ['hello, you', 'hi,','yo, yo, yo', 's,u,p']\n"
   ]
  },
  {
   "cell_type": "code",
   "execution_count": null,
   "metadata": {},
   "outputs": [],
   "source": [
    "## Solution\n",
    "\n",
    "noteUpdate = []\n",
    "\n",
    "for item in note:\n",
    "    new = item.replace(',', '')\n",
    "    noteUpdate.append(new)\n",
    "    \n",
    "print(noteUpdate)"
   ]
  },
  {
   "cell_type": "code",
   "execution_count": null,
   "metadata": {},
   "outputs": [],
   "source": [
    "## Question 2\n",
    "\n",
    "s = \"test\"\n",
    "for index in range(len(s)):\n",
    "    if s[index] == 't' or s[index] == 's':\n",
    "        print(\"There is an t or s\")"
   ]
  },
  {
   "cell_type": "code",
   "execution_count": null,
   "metadata": {},
   "outputs": [],
   "source": [
    "## What is a more pythonic (i.e. more efficient, simple) way to write the chunk above? "
   ]
  },
  {
   "cell_type": "code",
   "execution_count": null,
   "metadata": {},
   "outputs": [],
   "source": [
    "# Solution (instead of iterating over numbers, iterate over the letters.)\n",
    "for char in s:\n",
    "    if char == 'i' or char == 'u':\n",
    "        print(\"There is an i or u\")"
   ]
  },
  {
   "cell_type": "code",
   "execution_count": null,
   "metadata": {},
   "outputs": [],
   "source": [
    "## Question 3\n",
    "\n",
    "## write a list comprehension that loops over the word and creates a list of the letter + an ! (e.g. S!)\n",
    "\n",
    "word = 'Snickers'"
   ]
  },
  {
   "cell_type": "code",
   "execution_count": null,
   "metadata": {},
   "outputs": [],
   "source": [
    "pList = [char+'!' for char in word]\n",
    "print(pList)"
   ]
  },
  {
   "cell_type": "code",
   "execution_count": null,
   "metadata": {},
   "outputs": [],
   "source": [
    "## Back to Slides"
   ]
  },
  {
   "cell_type": "markdown",
   "metadata": {},
   "source": [
    "__Formatting Strings, Numbers, Etc. Within Strings__"
   ]
  },
  {
   "cell_type": "code",
   "execution_count": 50,
   "metadata": {},
   "outputs": [
    {
     "name": "stdout",
     "output_type": "stream",
     "text": [
      "Hi, my name is {name}.\n"
     ]
    }
   ],
   "source": [
    "name = 'Dan'\n",
    "print(f'Hi, my name is {name}.')"
   ]
  },
  {
   "cell_type": "code",
   "execution_count": 52,
   "metadata": {},
   "outputs": [
    {
     "name": "stdout",
     "output_type": "stream",
     "text": [
      "10 divided by 2 equal 10.0\n"
     ]
    }
   ],
   "source": [
    "math = f'10 divided by 2 equal {20 / 2}'\n",
    "print(math)"
   ]
  },
  {
   "cell_type": "code",
   "execution_count": 53,
   "metadata": {},
   "outputs": [
    {
     "name": "stdout",
     "output_type": "stream",
     "text": [
      "Today is 2021-06-09 00:00:00\n"
     ]
    }
   ],
   "source": [
    "### Working with Dates:\n",
    "\n",
    "from datetime import datetime\n",
    "\n",
    "day = datetime(2021, 6, 9)\n",
    "\n",
    "text = f'Today is {day}'\n",
    "print(text)"
   ]
  },
  {
   "cell_type": "code",
   "execution_count": 54,
   "metadata": {},
   "outputs": [
    {
     "name": "stdout",
     "output_type": "stream",
     "text": [
      "Today is June 09, 2021\n"
     ]
    }
   ],
   "source": [
    "# https://docs.python.org/3/library/datetime.html\n",
    "\n",
    "text = f'Today is {day:%B %d, %Y}'\n",
    "print(text) "
   ]
  },
  {
   "cell_type": "code",
   "execution_count": 55,
   "metadata": {},
   "outputs": [
    {
     "name": "stdout",
     "output_type": "stream",
     "text": [
      "We are on 1.\n",
      "We are on 2.\n",
      "We are on 3.\n",
      "We are on 4.\n",
      "We are on 5.\n",
      "We are on 6.\n",
      "We are on 7.\n",
      "We are on 8.\n",
      "We are on 9.\n"
     ]
    }
   ],
   "source": [
    "### Using f-strings with a loop\n",
    "\n",
    "for value in list(range(1,10)):\n",
    "    print(f'We are on {value}.')"
   ]
  },
  {
   "cell_type": "code",
   "execution_count": 56,
   "metadata": {},
   "outputs": [
    {
     "data": {
      "text/plain": [
       "\"Hi, Ted! How's it hangin?\""
      ]
     },
     "execution_count": 56,
     "metadata": {},
     "output_type": "execute_result"
    }
   ],
   "source": [
    "## let's put it in a function\n",
    "\n",
    "def greet(name, question):\n",
    "    return f\"Hi, {name}! How's it {question}?\"\n",
    "\n",
    "greet('Ted', 'hangin')"
   ]
  },
  {
   "cell_type": "code",
   "execution_count": 57,
   "metadata": {},
   "outputs": [
    {
     "name": "stdout",
     "output_type": "stream",
     "text": [
      "Jake's a professor.\n",
      "No, he's a CEO.\n",
      "professor.\n",
      "CEO.\n",
      "Both! \n"
     ]
    }
   ],
   "source": [
    "# Referring to format() arguments by index, starting from 0\n",
    "\n",
    "text = \"\"\"Jake's a {0}.\n",
    "No, he's a {1}.\n",
    "{0}.\n",
    "{1}.\n",
    "Both! \"\"\".format('professor', 'CEO')\n",
    "print(text) "
   ]
  },
  {
   "cell_type": "code",
   "execution_count": 63,
   "metadata": {},
   "outputs": [
    {
     "name": "stdout",
     "output_type": "stream",
     "text": [
      "10628\n"
     ]
    }
   ],
   "source": [
    "## More work with Dates\n",
    "\n",
    "from datetime import datetime\n",
    "\n",
    "today = datetime(2021, 6, 9)\n",
    "birthday = datetime(1992, 5, 4)\n",
    "\n",
    "#print(today - birthday)\n",
    "print((today - birthday).days) "
   ]
  },
  {
   "cell_type": "code",
   "execution_count": null,
   "metadata": {},
   "outputs": [],
   "source": [
    "## More test problems in breakout rooms"
   ]
  },
  {
   "cell_type": "code",
   "execution_count": null,
   "metadata": {},
   "outputs": [],
   "source": [
    "## Question 1\n",
    "\n",
    "# Remember this example where we referred to format() arguments by index, starting from 0?\n",
    "\n",
    "text = \"\"\"Jake's a {0}.\n",
    "No, he's a {1}.\n",
    "{0}.\n",
    "{1}.\n",
    "Both! \"\"\".format('professor', 'CEO')\n",
    "print(text) "
   ]
  },
  {
   "cell_type": "code",
   "execution_count": null,
   "metadata": {},
   "outputs": [],
   "source": [
    "## Solution\n",
    "\n",
    "job1 = 'CEO'\n",
    "job2 = 'professor'\n",
    "\n",
    "text = f'''Jake's a {job1}.\n",
    "No, he's a {job2}.\n",
    "{job1}.\n",
    "{job2}.\n",
    "Both! '''\n",
    "print(text)"
   ]
  },
  {
   "cell_type": "code",
   "execution_count": null,
   "metadata": {},
   "outputs": [],
   "source": [
    "## Question 2\n",
    "\n",
    "## Write an f string that calcuates the sum of the list of numbers below. \n",
    "\n",
    "nums = [3, 2, 1]"
   ]
  },
  {
   "cell_type": "code",
   "execution_count": null,
   "metadata": {},
   "outputs": [],
   "source": [
    "## Solution\n",
    "\n",
    "f'The sum of nums is {sum(num for num in nums)}.'"
   ]
  },
  {
   "cell_type": "code",
   "execution_count": null,
   "metadata": {},
   "outputs": [],
   "source": [
    "## Question 3\n",
    "\n",
    "from datetime import datetime\n",
    "\n",
    "today = datetime(2021, 6, 9)\n",
    "birthday = datetime(1992, 5, 4) ## Insert your own birthday here\n",
    "\n",
    "print(today - birthday)\n",
    "# print((today - birthday).days)"
   ]
  },
  {
   "cell_type": "code",
   "execution_count": null,
   "metadata": {},
   "outputs": [],
   "source": [
    "## Given the code above, write an if statement that checks if the days are greater than 10000\n",
    "## if they are greater, print out a statement that uses f strings to insert birth year into a relevant statement \n"
   ]
  },
  {
   "cell_type": "code",
   "execution_count": null,
   "metadata": {},
   "outputs": [],
   "source": [
    "if ((today - birthday).days) > 10000:\n",
    "    print(f\"{birthday.strftime('%Y')} was a long time ago.\") \n",
    "else:\n",
    "    print(f\"{birthday.strftime('%Y')}, you're still young!\")"
   ]
  }
 ],
 "metadata": {
  "kernelspec": {
   "display_name": "Python 3",
   "language": "python",
   "name": "python3"
  },
  "language_info": {
   "codemirror_mode": {
    "name": "ipython",
    "version": 3
   },
   "file_extension": ".py",
   "mimetype": "text/x-python",
   "name": "python",
   "nbconvert_exporter": "python",
   "pygments_lexer": "ipython3",
   "version": "3.8.5"
  }
 },
 "nbformat": 4,
 "nbformat_minor": 4
}
