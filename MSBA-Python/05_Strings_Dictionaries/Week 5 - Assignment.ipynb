{
 "cells": [
  {
   "cell_type": "markdown",
   "metadata": {},
   "source": [
    "# Week 5 Assignment\n",
    "\n",
    "This week focuses on using strings & dictionaries as well as building on our use of lists, loops, & functions. \n",
    "\n",
    "Total Points: 100"
   ]
  },
  {
   "cell_type": "markdown",
   "metadata": {},
   "source": [
    "### 1. (10 Points) Strings & F-Strings\n",
    "\n",
    "Rewrite the the statement below using an f-string. For Celcius, run the calculation directly in the string (i.e. no need to use the variable and round it to 2 decimal places.)\n",
    "\n",
    "#### Expected Output >>>\n",
    "\"The temp is 78 degrees Farenheit, which is 25.56 degrees Celcius. I'm just grateful that it's summer.\""
   ]
  },
  {
   "cell_type": "code",
   "execution_count": null,
   "metadata": {},
   "outputs": [],
   "source": [
    "regtemp = 78\n",
    "celcius = (78 - 32) * .5556\n",
    "season = \"summer\" \n",
    "\n",
    "\"The temp is {} degrees Farenheit, which is {} degrees Celcius. I'm just grateful that it's {}.\".format(\n",
    "    regtemp, celcius, season)\n"
   ]
  },
  {
   "cell_type": "code",
   "execution_count": null,
   "metadata": {},
   "outputs": [],
   "source": []
  },
  {
   "cell_type": "markdown",
   "metadata": {},
   "source": [
    "### 2. (10 Points) Strings to Lists\n",
    "\n",
    "Write a program that splits the note below into a list of letters and then replaces all the a's with o's. Rejoin the letters into a sentence and print it.  \n",
    "\n",
    "#### Expected Result >>> \n",
    "How mony o's ore in this sentence ond con we moke sure to reploce them with o's?"
   ]
  },
  {
   "cell_type": "code",
   "execution_count": null,
   "metadata": {},
   "outputs": [],
   "source": [
    "note = \"How many a's are in this sentence and can we make sure to replace them with o's?\""
   ]
  },
  {
   "cell_type": "markdown",
   "metadata": {},
   "source": [
    "### 3. (10 Points) String Operations & List Comprehension\n",
    "Split the string below into a list of the words and then write a list comprehension that rejoins the words in \n",
    "upper case with a 👏 in between them. (if the emoji doesn't work use a '!' instead) Print it out. \n",
    "\n",
    "#### Expected Result >>> \n",
    "I 👏 AM 👏 GETTING 👏 SO 👏 MUCH 👏 BETTER 👏 AT 👏 PYTHON."
   ]
  },
  {
   "cell_type": "code",
   "execution_count": null,
   "metadata": {},
   "outputs": [],
   "source": [
    "statement = \"I am getting so much better at python.\"\n",
    "\n",
    "## list comp goes here\n",
    "\n",
    "## print statement here"
   ]
  },
  {
   "cell_type": "markdown",
   "metadata": {},
   "source": [
    "### 4. (10 Points) While Loops\n",
    "Write a while loop that while the count below is less than the length of the word you input in the input call below, it prints out each character of the word. \n",
    "\n",
    "After the loop executes, print \"What's that spell?\" + your word. \n",
    "\n",
    "#### Expected output in your print console >>>\n",
    "Ex. if the input word was 'hello': \n",
    "\n",
    "h \n",
    "\n",
    "e\n",
    "\n",
    "l\n",
    "\n",
    "l\n",
    "\n",
    "o\n",
    "\n",
    "What's that spell? Hello"
   ]
  },
  {
   "cell_type": "code",
   "execution_count": null,
   "metadata": {},
   "outputs": [],
   "source": [
    "word = input(\"Enter a word: \")\n",
    "\n",
    "count = 0\n",
    "\n",
    "## while loop goes here\n",
    "    \n",
    "## print statment here"
   ]
  },
  {
   "cell_type": "markdown",
   "metadata": {},
   "source": [
    "### 5. (5 Points) While Loops to For Loops\n",
    "\n",
    "Rewrite the while loop above as a for loop (even if you didn't get the loop above, try to create the same expected output with a for loop)"
   ]
  },
  {
   "cell_type": "code",
   "execution_count": null,
   "metadata": {},
   "outputs": [],
   "source": [
    "word = input(\"Enter a word: \")\n",
    "\n",
    "## for loop goes here\n",
    "\n",
    "## print statment here"
   ]
  },
  {
   "cell_type": "markdown",
   "metadata": {},
   "source": [
    "### 6. (10 Points) Dictionaries & Lists\n",
    "Create a dictionary from the 2 lists below (a few ways to do this!). Then remove the duplicate value from the dictionary.\n",
    "\n",
    "#### Expected output >>> \n",
    "\n",
    "{'a': 10, 'b': 20, 'c': 30, 'e': 50}"
   ]
  },
  {
   "cell_type": "code",
   "execution_count": null,
   "metadata": {},
   "outputs": [],
   "source": [
    "list1 = ['a', 'b', 'c', 'd', 'e']\n",
    "list2 = [10, 20, 30, 30, 50]\n",
    "\n"
   ]
  },
  {
   "cell_type": "markdown",
   "metadata": {},
   "source": [
    "### 7. Dictionaries & Strings (2 Parts)\n",
    "__Part 1 (5 Points):__ Take the string below and do the following: \n",
    "* split it into a list of words\n",
    "* strip out any punctuation"
   ]
  },
  {
   "cell_type": "code",
   "execution_count": null,
   "metadata": {},
   "outputs": [],
   "source": [
    "#e.e. cummings\n",
    "cummings = '''it may not always be so; and i say\n",
    "that if your lips, which i have loved, should touch\n",
    "another’s, and your dear strong fingers clutch\n",
    "his heart, as mine in time not far away;\n",
    "if on another’s face your sweet hair lay\n",
    "in such silence as i know, or such\n",
    "great writhing words as, uttering overmuch,\n",
    "stand helplessly before the spirit at bay;\n",
    "\n",
    "if this should be, i say if this should be—\n",
    "you of my heart, send me a little word;\n",
    "that i may go unto him, and take his hands,\n",
    "saying, Accept all happiness from me.\n",
    "Then shall i turn my face, and hear one bird\n",
    "sing terribly afar in the lost lands'''"
   ]
  },
  {
   "cell_type": "code",
   "execution_count": null,
   "metadata": {},
   "outputs": [],
   "source": []
  },
  {
   "cell_type": "markdown",
   "metadata": {},
   "source": [
    "__Part 2 (10 Points):__ Write a function that counts the occurences of the word in the list of words from the poem and saves them in a Dictionary with the word as the key and the frequency as the value. (Don't use Counter for this one) Run function on the poem above and print the results.\n",
    "\n",
    "#### Sample expected output>>> \n",
    "{'it': 1,\n",
    " 'may': 2,\n",
    " 'not': 2,"
   ]
  },
  {
   "cell_type": "code",
   "execution_count": null,
   "metadata": {},
   "outputs": [],
   "source": []
  },
  {
   "cell_type": "markdown",
   "metadata": {},
   "source": [
    "### 8. (10 Points) Making Code More Efficient with Default Dict & Counter\n",
    "\n",
    "__Part 1 (5 points):__ The code below adds each word in the note below as a key with its frequency count as the value in a dictionary. Rewrite the code using defaultdict. Print your dictionary."
   ]
  },
  {
   "cell_type": "code",
   "execution_count": null,
   "metadata": {},
   "outputs": [],
   "source": [
    "note ='''We are going to use this note to test out writing better code and instead of having five lines in the for loop we can reduce to three with cool python libraries !'''\n",
    "\n",
    "word_dict = {}\n",
    "for word in note.split(\" \"):\n",
    "    print(word)\n",
    "    if word in word_dict:\n",
    "        word_dict[word]+=1\n",
    "    else:\n",
    "        word_dict[word]=1\n",
    "        \n",
    "print(word_dict)"
   ]
  },
  {
   "cell_type": "code",
   "execution_count": null,
   "metadata": {},
   "outputs": [],
   "source": []
  },
  {
   "cell_type": "markdown",
   "metadata": {},
   "source": [
    "__Part 2 (5 points):__ Rewrite the original code but this time using Counter to produce the same result.\n",
    "        Print out most the common word in the dictionary. "
   ]
  },
  {
   "cell_type": "code",
   "execution_count": null,
   "metadata": {},
   "outputs": [],
   "source": []
  },
  {
   "cell_type": "markdown",
   "metadata": {},
   "source": [
    "### 9. (10 Points) Default Dict & Nested Lists\n",
    "\n",
    "Use DefaultDict to iterate over the nested list below and add each repeating first element (e.g. 'spice', 'nut') \n",
    "as the key with the second element as a list of the values. Print the dictionary. \n",
    "\n",
    "#### Expected Result >>> \n",
    "defaultdict(<class 'list'>, {'spice': ['cumin', 'cinnamon', 'curry'], 'nut': ['almond', 'pecan', 'cashew']})"
   ]
  },
  {
   "cell_type": "code",
   "execution_count": null,
   "metadata": {},
   "outputs": [],
   "source": [
    "foodList = [('spice', 'cumin'), ('spice', 'cinnamon'), ('spice', 'curry'), ('nut', 'almond'), \n",
    "     ('nut', 'pecan'),('nut','cashew')]"
   ]
  },
  {
   "cell_type": "code",
   "execution_count": null,
   "metadata": {},
   "outputs": [],
   "source": []
  },
  {
   "cell_type": "markdown",
   "metadata": {},
   "source": [
    "### 10. (10 Points) Dictionaries, Loops & Strings\n",
    "\n",
    "Given the list of names below, create a dictionary that uses the first letter of the name as the key,\n",
    "and the full name as the value/list of values. Print out your dictionary. \n",
    "\n",
    "Expected Output >>> \n",
    "{'m': ['mary'], 's': ['sal', 'sarah']}"
   ]
  },
  {
   "cell_type": "code",
   "execution_count": null,
   "metadata": {},
   "outputs": [],
   "source": [
    "names = ['molly', 'sal', 'sarah']\n"
   ]
  },
  {
   "cell_type": "code",
   "execution_count": null,
   "metadata": {},
   "outputs": [],
   "source": []
  }
 ],
 "metadata": {
  "kernelspec": {
   "display_name": "Python 3",
   "language": "python",
   "name": "python3"
  },
  "language_info": {
   "codemirror_mode": {
    "name": "ipython",
    "version": 3
   },
   "file_extension": ".py",
   "mimetype": "text/x-python",
   "name": "python",
   "nbconvert_exporter": "python",
   "pygments_lexer": "ipython3",
   "version": "3.8.5"
  }
 },
 "nbformat": 4,
 "nbformat_minor": 4
}
