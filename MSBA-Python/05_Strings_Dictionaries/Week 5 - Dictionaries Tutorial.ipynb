{
 "cells": [
  {
   "cell_type": "markdown",
   "metadata": {},
   "source": [
    "Common Dictionary Operations"
   ]
  },
  {
   "cell_type": "code",
   "execution_count": null,
   "metadata": {
    "scrolled": true
   },
   "outputs": [],
   "source": [
    "myDict = {\"Name\": \"Mary\", \n",
    "         \"Age\" : 29,\n",
    "         \"Occupation\" : [\"Data Scientist\", \"Professor\"]}"
   ]
  },
  {
   "cell_type": "code",
   "execution_count": null,
   "metadata": {
    "scrolled": true
   },
   "outputs": [],
   "source": [
    "## Access all the values\n",
    "myDict.values()"
   ]
  },
  {
   "cell_type": "code",
   "execution_count": null,
   "metadata": {},
   "outputs": [],
   "source": [
    "## Accessing second value in a key with multiple values\n",
    "\n",
    "myDict[\"Occupation\"][1]"
   ]
  },
  {
   "cell_type": "code",
   "execution_count": null,
   "metadata": {
    "scrolled": true
   },
   "outputs": [],
   "source": [
    "# another wat to access a specific value\n",
    "x = myDict.get(\"Name\")\n",
    "print(x)"
   ]
  },
  {
   "cell_type": "code",
   "execution_count": null,
   "metadata": {
    "scrolled": true
   },
   "outputs": [],
   "source": [
    "## Access all the keys\n",
    "myDict.keys()"
   ]
  },
  {
   "cell_type": "code",
   "execution_count": null,
   "metadata": {
    "scrolled": true
   },
   "outputs": [],
   "source": [
    "# See all the items in the dictionary\n",
    "all = myDict.items()\n",
    "print(all)"
   ]
  },
  {
   "cell_type": "code",
   "execution_count": null,
   "metadata": {
    "scrolled": true
   },
   "outputs": [],
   "source": [
    "# Add in a key/value pair\n",
    "myDict.update({\"Gender\": \"Female\"})\n",
    "print(myDict)"
   ]
  },
  {
   "cell_type": "code",
   "execution_count": null,
   "metadata": {
    "scrolled": true
   },
   "outputs": [],
   "source": [
    "## Another way to add an item \n",
    "myDict['Hair Color'] = 'Brown' \n",
    "print(myDict)"
   ]
  },
  {
   "cell_type": "code",
   "execution_count": null,
   "metadata": {
    "scrolled": true
   },
   "outputs": [],
   "source": [
    "# Remove an  item\n",
    "#myDict.pop(\"Gender\")   # pop returns the deleted value\n",
    "  \n",
    "\n",
    "## Delete method\n",
    "#del myDict['Occupation'][1]\n",
    "#print(myDict)\n",
    "#del myDict\n",
    "\n",
    "myDict['Occupation'] = str(myDict['Occupation'][0])\n",
    "print(myDict)"
   ]
  },
  {
   "cell_type": "code",
   "execution_count": null,
   "metadata": {
    "scrolled": true
   },
   "outputs": [],
   "source": [
    "#### Changing a value in a dictionary\n",
    "myDict['Hair Color'] = 'Orange'\n",
    "print(myDict)\n",
    "\n",
    "# Update multiple items at the same time:\n",
    "\n",
    "# myDict.update({}) ## Add in keys with new value pairs"
   ]
  },
  {
   "cell_type": "code",
   "execution_count": null,
   "metadata": {
    "scrolled": true
   },
   "outputs": [],
   "source": [
    "## Looping over dictionaries\n",
    "myDict = {'Name': 'Mary', 'Age' : 29, 'Occupation' : ['Data Scientist', 'Professor']}\n",
    "\n",
    "#for key in myDict.keys():\n",
    "#    print(key)\n",
    "\n",
    "#for value in myDict.values():\n",
    "#    print(value)\n",
    "    \n",
    "for key, value in myDict.items():\n",
    "    print(key, value)"
   ]
  },
  {
   "cell_type": "code",
   "execution_count": null,
   "metadata": {
    "scrolled": true
   },
   "outputs": [],
   "source": [
    "## If we don't specify either way, it will loop over the keys\n",
    "\n",
    "for value in myDict:\n",
    "    print(value)\n"
   ]
  },
  {
   "cell_type": "code",
   "execution_count": null,
   "metadata": {},
   "outputs": [],
   "source": [
    "### Creating a dictionary from a list:\n",
    "\n",
    "#fruits = [\"Apple\", \"Pear\", \"Peach\", \"Banana\"]\n",
    "\n",
    "#fruit_dictionary = dict.fromkeys(fruits, \"In stock\")\n",
    "\n",
    "#print(fruit_dictionary)\n",
    "\n",
    "## Same thing with a loop\n",
    "fruitDict = {}\n",
    "for fruit in fruits:\n",
    "    fruitDict[fruit] = \"In stock\"\n",
    "    \n",
    "print(fruitDict)"
   ]
  },
  {
   "cell_type": "code",
   "execution_count": null,
   "metadata": {
    "scrolled": true
   },
   "outputs": [],
   "source": [
    "## Dictionary comprehensions similar to list comprehension\n",
    "\n",
    "planets = ['Mercury', 'Venus', 'Earth', 'Mars', 'Jupiter', 'Saturn', 'Uranus', 'Neptune']\n",
    "\n",
    "planet_to_initial = {}\n",
    "\n",
    "for planet in planets:\n",
    "    planet_to_initial[planet] = planet[0]\n",
    "print(planet_to_initial)   \n"
   ]
  },
  {
   "cell_type": "code",
   "execution_count": null,
   "metadata": {
    "scrolled": true
   },
   "outputs": [],
   "source": [
    "## using a dict comprehension\n",
    "planet_to_initial = {planet: planet[0] for planet in planets}\n",
    "planet_to_initial\n",
    "\n",
    "# Syntax \n",
    "# dict_variable = {key:value for (key,value) in dictonary.items()}"
   ]
  },
  {
   "cell_type": "code",
   "execution_count": null,
   "metadata": {},
   "outputs": [],
   "source": [
    "## More dict comprehension\n",
    "\n",
    "fruits = [\"Apple\", \"Pear\", \"Peach\", \"Banana\"]\n",
    "\n",
    "fruit_dictionary = { fruit : \"In stock\" for fruit in fruits }\n",
    "fruit_dictionary"
   ]
  },
  {
   "cell_type": "code",
   "execution_count": null,
   "metadata": {
    "scrolled": true
   },
   "outputs": [],
   "source": [
    "## How to get all the unique values from a dictionary?\n",
    "    \n",
    "myDict = {'Name': 'Mary', 'Age' : 29, 'Occupation' : 29}\n",
    "print(myDict.values())\n",
    "\n",
    "set(myDict.values())\n"
   ]
  },
  {
   "cell_type": "code",
   "execution_count": null,
   "metadata": {
    "scrolled": true
   },
   "outputs": [],
   "source": [
    "### Breakout Room Exercises"
   ]
  },
  {
   "cell_type": "code",
   "execution_count": null,
   "metadata": {
    "scrolled": true
   },
   "outputs": [],
   "source": [
    "myDict = {'Name': 'Mary', 'Age' : 29, 'Occupation' : ['Data Scientist', 'Professor']}"
   ]
  },
  {
   "cell_type": "code",
   "execution_count": null,
   "metadata": {
    "scrolled": true
   },
   "outputs": [],
   "source": [
    "## Question 1\n",
    "\n",
    "#If a dictionary is stored in myDict, what is the difference between the expressions:\n",
    "'Mary' in myDict \n",
    "#'Mary' in myDict.keys()\n",
    "\n",
    "#If a dictionary is stored in myDict, what is the difference between the expressions \n",
    "#'Mary' in myDict \n",
    "#'Mary' in  myDict.values()"
   ]
  },
  {
   "cell_type": "code",
   "execution_count": null,
   "metadata": {
    "scrolled": true
   },
   "outputs": [],
   "source": [
    "#Anwer: in myDict and in myDict.keys() are the same & check the keys only"
   ]
  },
  {
   "cell_type": "code",
   "execution_count": null,
   "metadata": {
    "scrolled": true
   },
   "outputs": [],
   "source": [
    "## Question 2\n",
    "\n",
    "## Write a script to check if a key exists in the following dictionary\n",
    "fishDict = {'name': 'nemo', 'home': 'anemone'}\n",
    "\n",
    "## Add in a color key with a corresponding value"
   ]
  },
  {
   "cell_type": "code",
   "execution_count": null,
   "metadata": {
    "scrolled": true
   },
   "outputs": [],
   "source": [
    "## Solution\n",
    "\n",
    "if 'name' in fishDict:\n",
    "    print('Key is present in the dictionary')\n",
    "else:\n",
    "    print('Key is not present in the dictionary')\n",
    "\n",
    "if 'color' not in fishDict:\n",
    "    fishDict['color'] = 'orange & white'"
   ]
  },
  {
   "cell_type": "code",
   "execution_count": null,
   "metadata": {
    "scrolled": true
   },
   "outputs": [],
   "source": [
    "## Question 3 FIX SECOND ONE\n",
    "\n",
    "## Write a function that merges two dictionaries together. For an added challenge, try to do it in 2 different ways\n",
    "\n",
    "dictx = {1 : 10, 2 : 20, 3 : 30}\n",
    "dicty = {4 : 40, 5 : 50, 6 : 60}\n"
   ]
  },
  {
   "cell_type": "code",
   "execution_count": null,
   "metadata": {},
   "outputs": [],
   "source": [
    "# Solution 1\n",
    "\n",
    "def mergeDicts (dict1, dict2):\n",
    "    '''\n",
    "    Merge two dictionaries together\n",
    "    '''\n",
    "    d = dict1.copy()\n",
    "    d.update(dict2)\n",
    "    print(d)"
   ]
  },
  {
   "cell_type": "code",
   "execution_count": null,
   "metadata": {},
   "outputs": [],
   "source": [
    "mergeDicts(dictx, dicty)"
   ]
  },
  {
   "cell_type": "code",
   "execution_count": null,
   "metadata": {},
   "outputs": [],
   "source": [
    "# Solution 2\n",
    "\n",
    "def mergeDicts2 (dict1, dict2):\n",
    "    '''\n",
    "    Merge two dictionaries together\n",
    "    '''\n",
    "    for key, value in dict1.items():\n",
    "        #print(key)\n",
    "        dict2[key] = value           ##Fixed from class, had an indent wrong!\n",
    "    print(dict2)"
   ]
  },
  {
   "cell_type": "code",
   "execution_count": null,
   "metadata": {},
   "outputs": [],
   "source": [
    "mergeDicts2(dictx, dicty)"
   ]
  },
  {
   "cell_type": "code",
   "execution_count": null,
   "metadata": {
    "scrolled": true
   },
   "outputs": [],
   "source": [
    "# Question 4 \n",
    "\n",
    "# Use the following list to build up a dictionary from scratch (i.e. if the key doesn't exist, add it to the dictionary)\n",
    "# and just assign every key a value of 1\n",
    "                                                              \n",
    "spiceList = ['cumin', 'curry', 'cajun', 'coriander', 'cinnamon', 'cardamon']                                                      "
   ]
  },
  {
   "cell_type": "code",
   "execution_count": null,
   "metadata": {
    "scrolled": true
   },
   "outputs": [],
   "source": [
    "### Solution\n",
    "\n",
    "newDict = {}\n",
    "\n",
    "for item in spiceList:\n",
    "    if item not in newDict:\n",
    "        newDict[item] = 1\n",
    "    \n",
    "print(newDict)"
   ]
  },
  {
   "cell_type": "code",
   "execution_count": null,
   "metadata": {},
   "outputs": [],
   "source": [
    "## Back To Slides"
   ]
  },
  {
   "cell_type": "code",
   "execution_count": null,
   "metadata": {
    "scrolled": true
   },
   "outputs": [],
   "source": [
    "## Using F strings with dictionary values\n",
    "\n",
    "sentence = f'My name is {myDict['Name']}, I am {myDict[Age]} years old, and I am a {myDict['Occupation']}.'\n",
    "print(sentence)\n",
    "\n",
    "## syntax error because it terminates the string too early due to the single quote referencing the dictionary value\n",
    "## key is to use different quotes throughout the string"
   ]
  },
  {
   "cell_type": "code",
   "execution_count": null,
   "metadata": {
    "scrolled": true
   },
   "outputs": [],
   "source": [
    "#sentence = f\"My name is {myDict['Name']}, I am {myDict['Age']} years old, and I am a {myDict['Occupation']}.\"\n",
    "#print(sentence)"
   ]
  },
  {
   "cell_type": "code",
   "execution_count": null,
   "metadata": {},
   "outputs": [],
   "source": [
    "### Dictionaries within Dictionaries\n",
    "\n",
    "sampleDict = {\n",
    "     'emp1': {'name': 'Jhon', 'salary': 7500},\n",
    "     'emp2': {'name': 'Emma', 'salary': 8000},\n",
    "     'emp3': {'name': 'Brad', 'salary': 6500}\n",
    "}\n",
    "\n",
    "#sampleDict['emp3']['salary'] = 8500\n",
    "#print(sampleDict)"
   ]
  },
  {
   "cell_type": "code",
   "execution_count": null,
   "metadata": {
    "scrolled": true
   },
   "outputs": [],
   "source": [
    "## EXAMPLES USING COUNTER & DEFAULT DICT"
   ]
  },
  {
   "cell_type": "code",
   "execution_count": null,
   "metadata": {
    "scrolled": true
   },
   "outputs": [],
   "source": [
    "from collections import Counter\n",
    "\n",
    "#c = Counter(['ham', 'eggs', 'ham'])\n",
    "c = Counter(['eggs', 'ham', 'ham'])\n",
    "c"
   ]
  },
  {
   "cell_type": "code",
   "execution_count": null,
   "metadata": {},
   "outputs": [],
   "source": [
    "## Different ways to intialize Counter based on the data type that's being passed into it\n",
    "\n",
    "_count = Counter()                                 # empty Counter\n",
    "print(Counter(\"Welcome!\"))                         # using string\n",
    "print(Counter(['x','y','z','x','x','x','y', 'z']) # using list\n",
    "print(Counter(('x','y','z','x','x','x','y', 'z'))) # using tuple"
   ]
  },
  {
   "cell_type": "code",
   "execution_count": null,
   "metadata": {},
   "outputs": [],
   "source": [
    "letters = Counter(('x','y','z','x','x','x','y', 'z'))\n",
    "print(letters)\n",
    "\n",
    "letters.most_common(1) ## returns ordered list but can also add value to get most common"
   ]
  },
  {
   "cell_type": "code",
   "execution_count": null,
   "metadata": {},
   "outputs": [],
   "source": [
    "# Dictionaries & Counter \n",
    "dict1 =  {'x': 4, 'y': 2, 'z': 2, 'z': 3}\n",
    "#print(dict1)  \n",
    "print(Counter(dict1))"
   ]
  },
  {
   "cell_type": "code",
   "execution_count": null,
   "metadata": {},
   "outputs": [],
   "source": [
    "# myDict = {'Name': 'Mary', 'Name' : 29, 'Occupation' : '29', 'Occupation' : '30'}\n",
    "# Counter(myDict)"
   ]
  },
  {
   "cell_type": "code",
   "execution_count": null,
   "metadata": {
    "scrolled": true
   },
   "outputs": [],
   "source": [
    "from collections import defaultdict\n",
    "\n",
    "x = defaultdict(int) \n",
    "\n",
    "print(x[3])\n",
    "#print(x)"
   ]
  },
  {
   "cell_type": "code",
   "execution_count": null,
   "metadata": {},
   "outputs": [],
   "source": [
    "x = {}\n",
    "\n",
    "x[3]\n",
    "\n",
    "## We expect to get a key error here"
   ]
  },
  {
   "cell_type": "code",
   "execution_count": null,
   "metadata": {},
   "outputs": [],
   "source": [
    "## using integer default\n",
    "\n",
    "name ='Jerry'\n",
    "\n",
    "mydict=defaultdict(int)\n",
    "\n",
    "for letter in name:\n",
    "    mydict[letter]+=1      \n",
    "    \n",
    "print(mydict)\n",
    "\n",
    "## we could do this with a normal dictionary but this let's the user know we want to work with integers"
   ]
  },
  {
   "cell_type": "code",
   "execution_count": null,
   "metadata": {},
   "outputs": [],
   "source": [
    "# The main difference between defaultdict and dict is that when you try to access or modify a key \n",
    "# that's not present in the dictionary, a default value is automatically given to that key"
   ]
  },
  {
   "cell_type": "code",
   "execution_count": null,
   "metadata": {},
   "outputs": [],
   "source": [
    "students = {'sally':'A', 'jeff':'C', 'lin':'B'}\n",
    "\n",
    "#students['john']\n",
    "\n",
    "## Can convert a dictionary to default dict: \n",
    "students1 = defaultdict(str, students)\n",
    "\n",
    "students1['john']"
   ]
  },
  {
   "cell_type": "code",
   "execution_count": null,
   "metadata": {},
   "outputs": [],
   "source": [
    "from collections import defaultdict\n",
    " \n",
    "d1 = defaultdict(list)  \n",
    "\n",
    "d1['key1'].append(1)\n",
    "d1['key1'].append(2)\n",
    "d1['key1'].append(3)\n",
    "d1['key2'].append(4)\n",
    "d1['key2'].append(5)\n",
    "\n",
    "d1['key3'].append(6)\n",
    "print(d1)"
   ]
  },
  {
   "cell_type": "code",
   "execution_count": null,
   "metadata": {},
   "outputs": [],
   "source": [
    "# Function to return a default \n",
    "# values for keys that is not present\n",
    "def def_value():\n",
    "    return \"Not Present\"\n",
    "      \n",
    "# Defining the dict\n",
    "d = defaultdict(def_value)\n",
    "d[\"a\"] = 1\n",
    "d[\"b\"] = 2\n",
    "  \n",
    "print(d[\"a\"])\n",
    "print(d[\"b\"])\n",
    "print(d[\"c\"])"
   ]
  },
  {
   "cell_type": "code",
   "execution_count": null,
   "metadata": {},
   "outputs": [],
   "source": [
    "### Breakout Room Questions"
   ]
  },
  {
   "cell_type": "code",
   "execution_count": null,
   "metadata": {},
   "outputs": [],
   "source": [
    "## Question 1\n",
    "\n",
    "from collections import defaultdict\n",
    " \n",
    "d1 = defaultdict(list)  \n",
    "\n",
    "d1['key1'].append(1)\n",
    "d1['key1'].append(2)\n",
    "d1['key1'].append(3)\n",
    "d1['key2'].append(4)\n",
    "d1['key2'].append(5)\n",
    "\n",
    "d1\n",
    "\n",
    "## Use a for loop to create the same dictionary the code above results in\n",
    "\n"
   ]
  },
  {
   "cell_type": "code",
   "execution_count": null,
   "metadata": {},
   "outputs": [],
   "source": [
    "## Solution\n",
    "d1 = defaultdict(list) \n",
    "for i in range(1, 6):\n",
    "    if i < 4:\n",
    "        d1['key1'].append(i)\n",
    "    else:\n",
    "        d1['key2'].append(i)\n",
    "        \n",
    "d1"
   ]
  },
  {
   "cell_type": "code",
   "execution_count": null,
   "metadata": {},
   "outputs": [],
   "source": [
    "## Question 2\n",
    "\n",
    "sampleDict = {\n",
    "     'emp1': {'name': 'Jhon', 'salary': 7500},\n",
    "     'emp2': {'name': 'Emma', 'salary': 8000},\n",
    "     'emp3': {'name': 'Brad', 'salary': 6500}\n",
    "}\n",
    "\n",
    "## write a loop that iterates over the dictionary and adds people with salary > 6500 to a new dictionary\n",
    "\n",
    "### Expected Output: {'emp1': 7500, 'emp2': 8000}"
   ]
  },
  {
   "cell_type": "code",
   "execution_count": null,
   "metadata": {},
   "outputs": [],
   "source": [
    "## Solution \n",
    "\n",
    "sampleDict = {\n",
    "     'emp1': {'name': 'Jhon', 'salary': 7500},\n",
    "     'emp2': {'name': 'Emma', 'salary': 8000},\n",
    "     'emp3': {'name': 'Brad', 'salary': 6500}\n",
    "}\n",
    "\n",
    "\n",
    "## likely a more pythonic way to do this but it's what I came up with!\n",
    "\n",
    "highSal = {}\n",
    "\n",
    "for item, value in sampleDict.items():\n",
    "    for item2, value2 in value.items():\n",
    "        if type(value2) == str:\n",
    "            pass\n",
    "        elif value2 < 6501:\n",
    "            pass\n",
    "        else:\n",
    "            highSal[item] = value2\n",
    "\n",
    "print(highSal)"
   ]
  },
  {
   "cell_type": "code",
   "execution_count": null,
   "metadata": {},
   "outputs": [],
   "source": []
  }
 ],
 "metadata": {
  "kernelspec": {
   "display_name": "Python 3",
   "language": "python",
   "name": "python3"
  },
  "language_info": {
   "codemirror_mode": {
    "name": "ipython",
    "version": 3
   },
   "file_extension": ".py",
   "mimetype": "text/x-python",
   "name": "python",
   "nbconvert_exporter": "python",
   "pygments_lexer": "ipython3",
   "version": "3.8.5"
  }
 },
 "nbformat": 4,
 "nbformat_minor": 4
}
