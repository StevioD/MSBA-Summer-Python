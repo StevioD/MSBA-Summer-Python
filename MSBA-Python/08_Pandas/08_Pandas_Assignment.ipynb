{
 "cells": [
  {
   "cell_type": "markdown",
   "metadata": {},
   "source": [
    "## 08 Pandas Assignment\n",
    "Let's explore the power of Pandas!\n",
    "Documentation on installation here: https://pandas.pydata.org/docs/getting_started/index.html#installation\n",
    "\n",
    "Getting started here: https://pandas.pydata.org/docs/user_guide/10min.html"
   ]
  },
  {
   "cell_type": "code",
   "execution_count": 4,
   "metadata": {},
   "outputs": [],
   "source": [
    "#Load the library from your local machine (hint: use Anaconda distribution or see documentation)\n",
    "\n",
    "import pandas as pd"
   ]
  },
  {
   "cell_type": "markdown",
   "metadata": {},
   "source": [
    "### 1 (5 points) Create a Series\n",
    "Name it \"My_First_Series\" and have it hold your 5 favorite numbers"
   ]
  },
  {
   "cell_type": "code",
   "execution_count": null,
   "metadata": {},
   "outputs": [],
   "source": [
    "#Your Answer Goes here"
   ]
  },
  {
   "cell_type": "markdown",
   "metadata": {},
   "source": [
    "### 2 (5 points) Create a Dataframe\n",
    "Create a custom dataframe called \"My_Favorite_Movies\" that uses a dictionary and a list. For the key, include the name of your favorite 2 movies. For the pair (list) include your three favorite characters and the year the movie came out. Finally, set your index for characters and year of release.\n",
    "Hint: You should have two columns and four rows with row titles (index)\n"
   ]
  },
  {
   "cell_type": "code",
   "execution_count": 5,
   "metadata": {},
   "outputs": [],
   "source": [
    "# Your Answer Goes Here"
   ]
  },
  {
   "cell_type": "markdown",
   "metadata": {},
   "source": [
    "### 3 (5 points) Loading a Dataset\n",
    "Load the Titanic .csv file and return the last five rows using a Pandas method. (Data Dictionary can be found here: https://www.kaggle.com/c/titanic/data). Note the Titanic.csv file can be found on Moodle under Week 8 and in the Github folder."
   ]
  },
  {
   "cell_type": "code",
   "execution_count": null,
   "metadata": {},
   "outputs": [],
   "source": [
    "# Your Answer Goes Here"
   ]
  },
  {
   "cell_type": "markdown",
   "metadata": {},
   "source": [
    "### 4 (5 points) Exploring Your Dataset\n",
    "Let's see what our dataset looks like with some basic exploratory methods. Return the number of rows and columns, describe the data using your new favorite Pandas methods"
   ]
  },
  {
   "cell_type": "code",
   "execution_count": null,
   "metadata": {},
   "outputs": [],
   "source": [
    "# Your Answer Goes Here"
   ]
  },
  {
   "cell_type": "markdown",
   "metadata": {},
   "source": [
    "### 5 (5 points) Analyzing Your Dataset\n",
    "Using our .iloc method, calculate the average age of the first 400 passengers"
   ]
  },
  {
   "cell_type": "code",
   "execution_count": 6,
   "metadata": {},
   "outputs": [],
   "source": [
    "# Your Answer Goes Here (Hint: you should see an average of ~28.6 years)"
   ]
  },
  {
   "cell_type": "markdown",
   "metadata": {},
   "source": [
    "### 6 (5 points) Analyzing Your Dataset\n",
    "Create a Dataframe called Survivor_age that includes just the ages and fares using the .loc method."
   ]
  },
  {
   "cell_type": "code",
   "execution_count": 9,
   "metadata": {},
   "outputs": [],
   "source": [
    "# Your Answer Goes Here"
   ]
  },
  {
   "cell_type": "markdown",
   "metadata": {},
   "source": [
    "### 7 (15 points) Analyzing Your Dataset\n",
    "Create a new DataFrame called lower_survivors which include all 2nd and 3rd class passengers who survived and departed from Cherbourg. (Hint: you should see 34 survivors - verify this with your favorite Pandas method)"
   ]
  },
  {
   "cell_type": "code",
   "execution_count": 13,
   "metadata": {},
   "outputs": [],
   "source": [
    "# Your Answer Goes Here"
   ]
  },
  {
   "cell_type": "markdown",
   "metadata": {},
   "source": [
    "### 8 (15 points)  Analyzing Your Dataset\n",
    "Using the groupby method, let's see the count survival rates for those over 55 by Sex and Class\n"
   ]
  },
  {
   "cell_type": "code",
   "execution_count": 14,
   "metadata": {},
   "outputs": [],
   "source": [
    "# Your Answer Goes Here"
   ]
  },
  {
   "cell_type": "markdown",
   "metadata": {},
   "source": [
    "### 9 (15 points) Lambda Functions\n",
    "As we saw, lambda functions are handy bite size functions that can be inserted inline or called from existing custom functions. One of the best uses with Pandas is for encoding data. \n",
    "\n",
    "Let's write a function to encode the ports passengers embarked from into their full names and create a new column to hold this data. (C = Cherbourg, Q = Queenstown, S = Southampton)\n",
    "\n"
   ]
  },
  {
   "cell_type": "code",
   "execution_count": null,
   "metadata": {},
   "outputs": [],
   "source": [
    "# Your Answer Goes Here"
   ]
  },
  {
   "cell_type": "markdown",
   "metadata": {},
   "source": [
    "### (25 points) Making Data from Data\n",
    "Let's say we want to look at the cost of a ticket today and compute a senior citizen of 30% off for those over 45 (hey, it was 1912!) and departing from Southampton.\n",
    "\n",
    "1. Create a DataFrame called senior_citizen that holds the conditionals mentioned above\n",
    "2. Write a lambda function to apply a 30% discount to each Fare row and create a new column caled \"Discount\"\n",
    "3. Compute the mean for this new \"Discount\" column (Hint: should come in at ~24.34)\n",
    "4. Plot the Discount column (Hint: use the handy pd.value_counts operator)\n"
   ]
  },
  {
   "cell_type": "code",
   "execution_count": null,
   "metadata": {},
   "outputs": [],
   "source": [
    "# Your Answer Goes Here"
   ]
  }
 ],
 "metadata": {
  "kernelspec": {
   "display_name": "Python 3",
   "language": "python",
   "name": "python3"
  },
  "language_info": {
   "codemirror_mode": {
    "name": "ipython",
    "version": 3
   },
   "file_extension": ".py",
   "mimetype": "text/x-python",
   "name": "python",
   "nbconvert_exporter": "python",
   "pygments_lexer": "ipython3",
   "version": "3.8.5"
  }
 },
 "nbformat": 4,
 "nbformat_minor": 4
}
