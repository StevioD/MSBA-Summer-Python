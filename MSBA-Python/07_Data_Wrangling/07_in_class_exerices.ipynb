{
 "cells": [
  {
   "cell_type": "markdown",
   "metadata": {},
   "source": [
    "## Week 7"
   ]
  },
  {
   "cell_type": "code",
   "execution_count": null,
   "metadata": {},
   "outputs": [],
   "source": [
    "import zipfile\n",
    "import os \n",
    "from zipfile import ZipFile\n",
    "import io"
   ]
  },
  {
   "cell_type": "markdown",
   "metadata": {},
   "source": [
    "### reading zip files"
   ]
  },
  {
   "cell_type": "code",
   "execution_count": null,
   "metadata": {},
   "outputs": [],
   "source": [
    "path = os.getcwd()"
   ]
  },
  {
   "cell_type": "code",
   "execution_count": null,
   "metadata": {},
   "outputs": [],
   "source": [
    "# check what is in out folder\n",
    "os.listdir(path + '/transaction_zips/')"
   ]
  },
  {
   "cell_type": "code",
   "execution_count": null,
   "metadata": {},
   "outputs": [],
   "source": [
    "# create a clean list of zip  files\n",
    "zip_files = []\n",
    "\n",
    "for file_name in os.listdir(path + '/transaction_zips/'):\n",
    "    if 'zip' in file_name:\n",
    "        zip_files.append(file_name)"
   ]
  },
  {
   "cell_type": "code",
   "execution_count": null,
   "metadata": {},
   "outputs": [],
   "source": [
    "zip_files"
   ]
  },
  {
   "cell_type": "code",
   "execution_count": null,
   "metadata": {},
   "outputs": [],
   "source": []
  },
  {
   "cell_type": "code",
   "execution_count": null,
   "metadata": {},
   "outputs": [],
   "source": [
    "with ZipFile('transaction_zips/' + 'file1.zip', 'r') as zf:\n",
    "        # create a list of the zip contents\n",
    "        zipped_files = zf.namelist()\n",
    "        for file_name in zipped_files:\n",
    "            print(file_name)\n",
    "            input_file = zf.open(file_name, 'r') \n",
    "            # fix the encoding - we might need to test this out for windows users\n",
    "            input_file = io.TextIOWrapper(input_file,encoding=\"utf-8\")\n",
    "            for line in input_file:\n",
    "                print(line)"
   ]
  },
  {
   "cell_type": "code",
   "execution_count": null,
   "metadata": {},
   "outputs": [],
   "source": [
    "zipped_files"
   ]
  },
  {
   "cell_type": "code",
   "execution_count": null,
   "metadata": {},
   "outputs": [],
   "source": [
    "# let's just check one out\n",
    "with ZipFile('transaction_zips/' + 'file1.zip', 'r') as zf:\n",
    "        # create a list of the zip contents\n",
    "        zipped_files = zf.namelist()\n",
    "        # read in files\n",
    "        for file_name in zipped_files:\n",
    "            print(file_name)\n",
    "            # open the compressed files\n",
    "            input_file = zf.open(file_name, 'r') \n",
    "            # fix the encoding - we might need to test this out for windows users\n",
    "            input_file = io.TextIOWrapper(input_file,encoding=\"utf-8\")\n",
    "            for line in input_file:\n",
    "                print(line)"
   ]
  },
  {
   "cell_type": "code",
   "execution_count": null,
   "metadata": {
    "scrolled": true
   },
   "outputs": [],
   "source": [
    "# break out rooms - get the above code chunk going - loop through all zips\n",
    "\n",
    "\n",
    "for zipped_file in zip_files:\n",
    "    with ZipFile('transaction_zips/' + 'file1.zip', 'r') as zf:\n",
    "        # create a list of the zip contents\n",
    "        zipped_files = zf.namelist()\n",
    "        # read in files\n",
    "        for file_name in zipped_files:\n",
    "            print(file_name)\n",
    "            # open the compressed files\n",
    "            input_file = zf.open(file_name, 'r') \n",
    "            # fix the encoding - we might need to test this out for windows users\n",
    "            input_file = io.TextIOWrapper(input_file,encoding=\"utf-8\")\n",
    "            for line in input_file:\n",
    "                print(line)\n",
    "                    "
   ]
  },
  {
   "cell_type": "markdown",
   "metadata": {},
   "source": [
    "### Regex"
   ]
  },
  {
   "cell_type": "code",
   "execution_count": null,
   "metadata": {},
   "outputs": [],
   "source": [
    "import re"
   ]
  },
  {
   "cell_type": "code",
   "execution_count": null,
   "metadata": {},
   "outputs": [],
   "source": [
    "# match only checks the first part of the string\n",
    "# search will look through the the entire string or just through different parts of it\n",
    "string = 'something to check'\n",
    "#print(re.match('check',string))\n",
    "print(re.match('some',string))"
   ]
  },
  {
   "cell_type": "code",
   "execution_count": null,
   "metadata": {},
   "outputs": [],
   "source": [
    "quote = 'it was the best of times, it was the worst of times'"
   ]
  },
  {
   "cell_type": "code",
   "execution_count": null,
   "metadata": {},
   "outputs": [],
   "source": [
    "# establish the pattern and save it - this is a bit more programmatic \n",
    "best_pattern = re.compile(r'best')"
   ]
  },
  {
   "cell_type": "code",
   "execution_count": null,
   "metadata": {},
   "outputs": [],
   "source": [
    "# call search() with the quote above\n",
    "\n",
    "best_pattern.search(quote)"
   ]
  },
  {
   "cell_type": "code",
   "execution_count": null,
   "metadata": {},
   "outputs": [],
   "source": [
    "# replace the pattern with a new phrase\n",
    "\n",
    "best_pattern.sub(r'most okay',quote)"
   ]
  },
  {
   "cell_type": "code",
   "execution_count": null,
   "metadata": {},
   "outputs": [],
   "source": [
    "it_pattern = re.compile(r'it')\n",
    "\n",
    "## search only returns the first instance\n",
    "\n",
    "#it_pattern.search(quote)\n",
    "\n",
    "## sub will replace all instances \n",
    "\n",
    "it_pattern.sub('',quote)"
   ]
  },
  {
   "cell_type": "code",
   "execution_count": null,
   "metadata": {},
   "outputs": [],
   "source": [
    "# breakout rooms\n",
    "\n",
    "\n",
    "# ^ - matches if a string starts with a character\n",
    "# $ - matches if a string ends with a character\n",
    "# . - matches any character\n",
    "# [] - matches if any characters are present\n",
    "# + - matches one or more occurrences to the left\n",
    "# ? - matches zero or one occurrence to the left\n",
    "# | - used for alteration\n",
    "\n",
    "# \\A - matches if characters are at the beginning or end of the string\n",
    "# \\b - matches if characters are at the beginning or end of a word\n",
    "# \\d - matches any number\n",
    "# \\D - matches any non-numeric characters\n",
    "# \\s - matches any string that contains whitespace\n",
    "# \\w - matches any alphanumeric character\n",
    "\n",
    "# \\ - escapes any symbol you want to match\n",
    "# [^ ] - the caret in brackets will reverse whatever pattern follows it "
   ]
  },
  {
   "cell_type": "code",
   "execution_count": null,
   "metadata": {},
   "outputs": [],
   "source": [
    "\n",
    "#pattern = re.compile(r'\\be\\w+')\n",
    "pattern = re.compile(r'\\be\\w+')\n",
    "string = 'this is an example  '\n",
    "pattern.sub('answer', string)"
   ]
  },
  {
   "cell_type": "code",
   "execution_count": null,
   "metadata": {},
   "outputs": [],
   "source": [
    "# brackets with a range of numbers will replace any numeric value\n",
    "pattern = re.compile(r'[1-9]')\n",
    "string = 'This is 1 example'\n",
    "pattern.sub('X',string)"
   ]
  },
  {
   "cell_type": "code",
   "execution_count": null,
   "metadata": {},
   "outputs": [],
   "source": [
    "# same with letters\n",
    "pattern = re.compile(r'[a-jn-z]')\n",
    "string = '123y5'\n",
    "pattern.sub('4',string)"
   ]
  },
  {
   "cell_type": "code",
   "execution_count": null,
   "metadata": {},
   "outputs": [],
   "source": [
    "# use \\ to escape special characters\n",
    "pattern = r'\\$'\n",
    "test_string = '$1'\n",
    "result = re.match(pattern, test_string)\n",
    "# check if result has match\n",
    "if result:\n",
    "    print(True)"
   ]
  },
  {
   "cell_type": "code",
   "execution_count": null,
   "metadata": {},
   "outputs": [],
   "source": [
    "# matching the first and last letter of my name along with the right number or periods\n",
    "pattern = r'^t....s$'\n",
    "test_string = 'thomas'\n",
    "result = re.match(pattern, test_string)\n",
    "# check if result has match\n",
    "if result:\n",
    "    print(True)"
   ]
  },
  {
   "cell_type": "code",
   "execution_count": null,
   "metadata": {},
   "outputs": [],
   "source": [
    "pattern = r'\\d' # same as using [1-9]\n",
    "test_string = '123'\n",
    "result = re.match(pattern, test_string)\n",
    "# check if result has match\n",
    "if result:\n",
    "    print(True)"
   ]
  },
  {
   "cell_type": "code",
   "execution_count": null,
   "metadata": {},
   "outputs": [],
   "source": [
    "pattern = r'\\w\\s'\n",
    "test_string = 'abc 123'\n",
    "#test_string = ' a '\n",
    "result = re.match(pattern, test_string)\n",
    "# check if result has match\n",
    "if result:\n",
    "    print(True)"
   ]
  },
  {
   "cell_type": "code",
   "execution_count": null,
   "metadata": {},
   "outputs": [],
   "source": [
    "# example of regex to remove punctuation\n",
    "# \\w matches any alphanumeric characte\n",
    "# \\s matches any whitespace\n",
    "# inside of brackets, ^ means not \n",
    "test_string = 'as-df9.'\n",
    "#punctuation_pattern = re.compile(r'[^\\w\\s]')\n",
    "punctuation_pattern = re.compile(r'[^1-9]')\n",
    "punctuation_pattern.sub('X',test_string)"
   ]
  },
  {
   "cell_type": "code",
   "execution_count": null,
   "metadata": {},
   "outputs": [],
   "source": [
    "# breakout rooms\n",
    "\n",
    "\n",
    "# ^ - matches if a string starts with a character\n",
    "# $ - matches if a string ends with a character\n",
    "# . - matches any character\n",
    "# [] - matches if any characters are present\n",
    "# + - matches one or more occurrences to the left\n",
    "# ? - matches zero or one occurrence to the left\n",
    "# | - used for alteration\n",
    "\n",
    "# \\A - matches if characters are at the beginning or end of the string\n",
    "# \\b - matches if characters are at the beginning or end of a word\n",
    "# \\d - matches any number\n",
    "# \\D - matches any non-numeric characters\n",
    "# \\s - matches any string that contains whitespace\n",
    "# \\w - matches any alphanumeric character\n",
    "\n",
    "# \\ - escapes any symbol you want to match\n",
    "# [^ ] - the caret in brackets will reverse whatever pattern follows it  \n",
    "\n",
    "import re\n",
    "\n",
    "# Enter a pattern in re.compile() to change the below date to 06-01-2021\n",
    "test_string = '06/01/2021'\n",
    "pattern = re.compile(r'/')\n",
    "pattern.sub('-',test_string)\n",
    "\n",
    "# Enter a pattern in re.compile() to change bears and beets to be singular\n",
    "test_string = \"bears, beets, battlestar galactica\"\n",
    "punctuation_pattern = re.compile()\n",
    "punctuation_pattern.sub('',test_string)\n",
    "\n",
    "# Enter a pattern in re.compile() to strip everything but 'battlestar galactica' (don't just use a match on it)\n",
    "test_string = \"2 bears, 2 beets, battlestar galactica\"\n",
    "punctuation_pattern = re.compile()\n",
    "punctuation_pattern.sub('',test_string)"
   ]
  },
  {
   "cell_type": "code",
   "execution_count": null,
   "metadata": {},
   "outputs": [],
   "source": [
    "test_string = \"2 bears, 2 beets, battlestar galactica\"\n",
    "punctuation_pattern = re.compile(r'\\d\\s\\bb.....\\s+')\n",
    "punctuation_pattern.sub('',test_string)"
   ]
  },
  {
   "cell_type": "markdown",
   "metadata": {},
   "source": [
    "### Brewery API"
   ]
  },
  {
   "cell_type": "code",
   "execution_count": null,
   "metadata": {},
   "outputs": [],
   "source": [
    "import requests\n",
    "#https://shkspr.mobi/blog/2016/05/easy-apis-without-authentication/\n",
    "#https://mixedanalytics.com/blog/list-actually-free-open-no-auth-needed-apis/"
   ]
  },
  {
   "cell_type": "code",
   "execution_count": null,
   "metadata": {},
   "outputs": [],
   "source": [
    "# brewery api \n",
    "# https://www.openbrewerydb.org/documentation/01-listbreweries\n",
    "url = 'https://api.openbrewerydb.org/breweries?by_state=montana' # open this up in the browser"
   ]
  },
  {
   "cell_type": "code",
   "execution_count": null,
   "metadata": {},
   "outputs": [],
   "source": [
    "# save the request as a variable\n",
    "r = requests.get(url)"
   ]
  },
  {
   "cell_type": "code",
   "execution_count": null,
   "metadata": {},
   "outputs": [],
   "source": [
    "r.status_code"
   ]
  },
  {
   "cell_type": "code",
   "execution_count": null,
   "metadata": {},
   "outputs": [],
   "source": [
    "# open that request and save it as a variable to work with later\n",
    "brew_json = r.json()"
   ]
  },
  {
   "cell_type": "code",
   "execution_count": null,
   "metadata": {},
   "outputs": [],
   "source": [
    "from pprint import pprint"
   ]
  },
  {
   "cell_type": "code",
   "execution_count": null,
   "metadata": {},
   "outputs": [],
   "source": [
    "# what data type is this\n",
    "pprint(brew_json)"
   ]
  },
  {
   "cell_type": "code",
   "execution_count": null,
   "metadata": {
    "scrolled": true
   },
   "outputs": [],
   "source": [
    "# print each item or print it out values accorring to key\n",
    "for item in brew_json:\n",
    "   # print(item)\n",
    "    print(item['name'])     \n",
    "    print(item['city'])"
   ]
  },
  {
   "cell_type": "code",
   "execution_count": null,
   "metadata": {},
   "outputs": [],
   "source": [
    "# pare down to just city and name\n",
    "name_city_list = []\n",
    "for item in brew_json:\n",
    "    name_city_list.append({'name':item['name'],'city':item['city']})\n",
    "    #for key in ('name','city'):\n",
    "    #    name_city_list.append({key:item[key]})\n",
    "        "
   ]
  },
  {
   "cell_type": "code",
   "execution_count": null,
   "metadata": {},
   "outputs": [],
   "source": [
    "# notice how long this is\n",
    "name_city_list"
   ]
  },
  {
   "cell_type": "code",
   "execution_count": null,
   "metadata": {},
   "outputs": [],
   "source": [
    "import requests\n",
    "# pagination\n",
    "# let's loop through this - \n",
    "# the goal is to expand on this code chunk to append all pages of \n",
    "# montana breweries in {name,city} format to name_city_list. \n",
    "url = 'https://api.openbrewerydb.org/breweries?by_state=montana&page='\n",
    "page_num = 1\n",
    "\n",
    "name_city_list = []\n",
    "\n",
    "r = requests.get(url + str(page_num))\n",
    "\n",
    "brew_json = r.json()\n",
    "\n",
    "for item in brew_json:\n",
    "    name_city_list.append({'name':item['name'],'city':item['city']})\n",
    "print(name_city_list)"
   ]
  },
  {
   "cell_type": "code",
   "execution_count": null,
   "metadata": {},
   "outputs": [],
   "source": [
    "len(brew_json)"
   ]
  },
  {
   "cell_type": "code",
   "execution_count": null,
   "metadata": {},
   "outputs": [],
   "source": [
    "len(name_city_list)"
   ]
  },
  {
   "cell_type": "code",
   "execution_count": null,
   "metadata": {},
   "outputs": [],
   "source": [
    "name_city_list"
   ]
  },
  {
   "cell_type": "code",
   "execution_count": null,
   "metadata": {},
   "outputs": [],
   "source": [
    "# breakout answer to pull all data from brewery api\n",
    "\n",
    "name_city_list = []\n",
    "\n",
    "url = 'https://api.openbrewerydb.org/breweries?by_state=montana&page='\n",
    "\n",
    "for i in range(1,100):\n",
    "    full_url = url + str(i) # create new url with page number\n",
    "    print(full_url)\n",
    "    \n",
    "    r = requests.get(full_url)  # send request\n",
    "    print(len(r.json()))\n",
    "    if len(r.json()) == 0:\n",
    "        break #break if the json is empty\n",
    "    \n",
    "    # here we will loop through each     \n",
    "    for item in r.json():\n",
    "        name_city_list.append({'name':item['name'],'city':item['city']})\n"
   ]
  },
  {
   "cell_type": "code",
   "execution_count": null,
   "metadata": {},
   "outputs": [],
   "source": [
    "url = 'https://api.openbrewerydb.org/breweries?by_state=montana&page='\n",
    "page_num = 1\n",
    "name_city_list = []\n",
    "'''\n",
    "r = requests.get(url + str(page_num))\n",
    "\n",
    "brew_json = r.json()\n",
    "for item in brew_json:\n",
    "    name_city_list.append({'name':item['name'],'city':item['city']})\n",
    "    '''\n",
    "while len(brew_json) > 0:\n",
    "   \n",
    "    r = requests.get(url + str(page_num))\n",
    "    brew_json = r.json()\n",
    "    for item in brew_json:\n",
    "        name_city_list.append({'name':item['name'],'city':item['city']})\n",
    "    page_num += 1\n",
    "print(name_city_list)"
   ]
  },
  {
   "cell_type": "code",
   "execution_count": null,
   "metadata": {},
   "outputs": [],
   "source": [
    "name_city_list"
   ]
  },
  {
   "cell_type": "markdown",
   "metadata": {},
   "source": [
    "### Cleaning\n",
    "\n",
    "Let's count how often certain words occur in brewery names across the state\n",
    "\n",
    "What cleaning should we do?\n",
    "\n",
    "* use regular expressions to remove brewery, brewing, co, company, microbrewery, brew\n",
    "* use regular expressions to remove any punctuation\n",
    "* strip any whitespace\n",
    "* remove any duplicates\n",
    "* change all names to lower case\n",
    "\n",
    "If we go through these steps and create a list of clean brewery names, output should look like this:\n",
    "\n",
    "['2 basset','380','406','angry hanks','backslope'...]"
   ]
  },
  {
   "cell_type": "code",
   "execution_count": null,
   "metadata": {},
   "outputs": [],
   "source": [
    "brewery = 'Conflux Brewing Co'"
   ]
  },
  {
   "cell_type": "code",
   "execution_count": null,
   "metadata": {},
   "outputs": [],
   "source": [
    "brewery.replace('Co','')"
   ]
  },
  {
   "cell_type": "code",
   "execution_count": null,
   "metadata": {},
   "outputs": [],
   "source": [
    "re.sub(r'Co\\b','',brewery)"
   ]
  },
  {
   "cell_type": "code",
   "execution_count": null,
   "metadata": {},
   "outputs": [],
   "source": [
    "name_list = []\n",
    "for item in name_city_list:\n",
    "    #print(item)\n",
    "    brewery_name = item['name'].lower()\n",
    "    brewery_name = re.sub(r'co\\b','',brewery_name)\n",
    "    brewery_name = re.sub(r'[^\\w\\s]','',brewery_name)\n",
    "    name_list.append(brewery_name)"
   ]
  },
  {
   "cell_type": "code",
   "execution_count": null,
   "metadata": {},
   "outputs": [],
   "source": [
    "name_list"
   ]
  },
  {
   "cell_type": "code",
   "execution_count": null,
   "metadata": {},
   "outputs": [],
   "source": [
    "clean_name_list = []\n",
    "for name in name_list:\n",
    "   # name = name.replace('brewery','').replace('company','').replace('brewing','').replace('brew','')\n",
    "    name = re.sub(r'(brewery|company|brewing|brew|microbrewery)','',name)\n",
    "    name = name.strip()\n",
    "    name = name.replace('    ',' ')\n",
    "    clean_name_list.append(name)"
   ]
  },
  {
   "cell_type": "code",
   "execution_count": null,
   "metadata": {},
   "outputs": [],
   "source": [
    "len(clean_name_list)"
   ]
  },
  {
   "cell_type": "code",
   "execution_count": null,
   "metadata": {},
   "outputs": [],
   "source": [
    "clean_name_list"
   ]
  },
  {
   "cell_type": "code",
   "execution_count": null,
   "metadata": {},
   "outputs": [],
   "source": [
    "# remove duplicates\n",
    "len(set(clean_name_list))"
   ]
  },
  {
   "cell_type": "code",
   "execution_count": null,
   "metadata": {},
   "outputs": [],
   "source": [
    "clean_name_list = list(set(clean_name_list))"
   ]
  },
  {
   "cell_type": "code",
   "execution_count": null,
   "metadata": {},
   "outputs": [],
   "source": [
    "# pull out words \n",
    "all_words = []\n",
    "for brewery_name in clean_name_list:\n",
    "    for word in brewery_name.split(\" \"):\n",
    "        print(word)\n",
    "        all_words.append(word)"
   ]
  },
  {
   "cell_type": "code",
   "execution_count": null,
   "metadata": {},
   "outputs": [],
   "source": [
    "all_words"
   ]
  },
  {
   "cell_type": "code",
   "execution_count": null,
   "metadata": {},
   "outputs": [],
   "source": [
    "import collections"
   ]
  },
  {
   "cell_type": "code",
   "execution_count": null,
   "metadata": {},
   "outputs": [],
   "source": [
    "counter = collections.Counter(all_words)"
   ]
  },
  {
   "cell_type": "code",
   "execution_count": null,
   "metadata": {},
   "outputs": [],
   "source": [
    "print(counter)"
   ]
  },
  {
   "cell_type": "markdown",
   "metadata": {},
   "source": [
    "### Text Parsing & Sentiment Analysis"
   ]
  },
  {
   "cell_type": "code",
   "execution_count": null,
   "metadata": {},
   "outputs": [],
   "source": [
    "import nltk\n",
    "from nltk.tokenize import sent_tokenize\n",
    "from nltk.tokenize import word_tokenize\n",
    "from nltk.probability import FreqDist\n",
    "from nltk.corpus import stopwords\n",
    "from nltk.stem import PorterStemmer\n",
    "from nltk.stem.wordnet import WordNetLemmatizer\n",
    "import string"
   ]
  },
  {
   "cell_type": "code",
   "execution_count": null,
   "metadata": {},
   "outputs": [],
   "source": [
    "with open('lotr','r') as file:\n",
    "    text = file.read().replace('\\n', '')"
   ]
  },
  {
   "cell_type": "code",
   "execution_count": null,
   "metadata": {},
   "outputs": [],
   "source": [
    "text"
   ]
  },
  {
   "cell_type": "code",
   "execution_count": null,
   "metadata": {},
   "outputs": [],
   "source": [
    "# tokenize sentences - create a list of sentences\n",
    "\n",
    "tokenized_text=sent_tokenize(text)\n",
    "\n",
    "print(tokenized_text)"
   ]
  },
  {
   "cell_type": "code",
   "execution_count": null,
   "metadata": {},
   "outputs": [],
   "source": [
    "# tokenize words\n",
    "tokenized_word = word_tokenize(text)\n",
    "print(tokenized_word)"
   ]
  },
  {
   "cell_type": "code",
   "execution_count": null,
   "metadata": {},
   "outputs": [],
   "source": [
    "fdist = FreqDist(tokenized_word)\n",
    "print(fdist)"
   ]
  },
  {
   "cell_type": "code",
   "execution_count": null,
   "metadata": {},
   "outputs": [],
   "source": [
    "fdist.most_common(20)"
   ]
  },
  {
   "cell_type": "code",
   "execution_count": null,
   "metadata": {},
   "outputs": [],
   "source": [
    "stop_words = set(stopwords.words(\"english\"))\n",
    "print(stop_words)"
   ]
  },
  {
   "cell_type": "code",
   "execution_count": null,
   "metadata": {},
   "outputs": [],
   "source": [
    "more_punctuation = {\"``\",\"''\"}"
   ]
  },
  {
   "cell_type": "code",
   "execution_count": null,
   "metadata": {},
   "outputs": [],
   "source": [
    "string.punctuation"
   ]
  },
  {
   "cell_type": "code",
   "execution_count": null,
   "metadata": {},
   "outputs": [],
   "source": [
    "filtered_sent=[]\n",
    "for w in tokenized_word:\n",
    "    if w not in stop_words and w not in string.punctuation and w not in more_punctuation:\n",
    "        w = w.lower()\n",
    "        filtered_sent.append(w)\n",
    "print(filtered_sent)"
   ]
  },
  {
   "cell_type": "code",
   "execution_count": null,
   "metadata": {},
   "outputs": [],
   "source": [
    "fdist = FreqDist(filtered_sent)\n",
    "fdist.most_common(20)"
   ]
  },
  {
   "cell_type": "code",
   "execution_count": null,
   "metadata": {},
   "outputs": [],
   "source": [
    "# stemming words\n",
    "ps = PorterStemmer()\n",
    "\n",
    "stemmed_words=[]\n",
    "for w in filtered_sent:\n",
    "    stemmed_words.append(ps.stem(w))"
   ]
  },
  {
   "cell_type": "code",
   "execution_count": null,
   "metadata": {},
   "outputs": [],
   "source": [
    "stemmed_words"
   ]
  },
  {
   "cell_type": "code",
   "execution_count": null,
   "metadata": {},
   "outputs": [],
   "source": [
    "fdist = FreqDist(stemmed_words)\n",
    "fdist.most_common(20)"
   ]
  },
  {
   "cell_type": "code",
   "execution_count": null,
   "metadata": {},
   "outputs": [],
   "source": [
    "lem = WordNetLemmatizer()\n",
    "\n",
    "lemmatized_words=[]\n",
    "for w in filtered_sent:\n",
    "    w = w.lower()\n",
    "    lemmatized_words.append(lem.lemmatize(w,'v'))"
   ]
  },
  {
   "cell_type": "code",
   "execution_count": null,
   "metadata": {},
   "outputs": [],
   "source": [
    "lemmatized_words"
   ]
  },
  {
   "cell_type": "code",
   "execution_count": null,
   "metadata": {},
   "outputs": [],
   "source": [
    "fdist = FreqDist(lemmatized_words)\n",
    "fdist.most_common(40)"
   ]
  },
  {
   "cell_type": "code",
   "execution_count": null,
   "metadata": {},
   "outputs": [],
   "source": [
    "# read in lists of positive and negative words\n",
    "positive_words = []\n",
    "with open('positive-words.txt','r') as pos_file:\n",
    "    for word in pos_file:\n",
    "        word = word.strip()\n",
    "        positive_words.append(word)\n",
    "\n",
    "        \n",
    "negative_words = []\n",
    "with open('negative-words.txt','r') as neg_file:\n",
    "    for word in neg_file:\n",
    "        word = word.strip()\n",
    "        negative_words.append(word)"
   ]
  },
  {
   "cell_type": "code",
   "execution_count": null,
   "metadata": {},
   "outputs": [],
   "source": [
    "print(len(negative_words))\n",
    "print(len(positive_words))"
   ]
  },
  {
   "cell_type": "code",
   "execution_count": null,
   "metadata": {},
   "outputs": [],
   "source": [
    "sentiment_list = []\n",
    "\n",
    "for word in lemmatized_words:\n",
    "    if word in positive_words:\n",
    "        sentiment_list.append({'word': word,'sentiment': 'positive'})\n",
    "    elif word in negative_words:\n",
    "        sentiment_list.append({'word': word,'sentiment': 'negative'})\n",
    "    else:\n",
    "        sentiment_list.append({'word': word,'sentiment': 'neutral'})\n"
   ]
  },
  {
   "cell_type": "code",
   "execution_count": null,
   "metadata": {},
   "outputs": [],
   "source": [
    "sentiment_list"
   ]
  },
  {
   "cell_type": "code",
   "execution_count": null,
   "metadata": {},
   "outputs": [],
   "source": [
    "for item in sentiment_list:\n",
    "    if item['sentiment'] == 'positive':\n",
    "        print(item['word'])"
   ]
  },
  {
   "cell_type": "code",
   "execution_count": null,
   "metadata": {},
   "outputs": [],
   "source": [
    "for item in sentiment_list:\n",
    "    if item['sentiment'] == 'negative':\n",
    "        print(item['word'])"
   ]
  }
 ],
 "metadata": {
  "kernelspec": {
   "display_name": "Python 3",
   "language": "python",
   "name": "python3"
  },
  "language_info": {
   "codemirror_mode": {
    "name": "ipython",
    "version": 3
   },
   "file_extension": ".py",
   "mimetype": "text/x-python",
   "name": "python",
   "nbconvert_exporter": "python",
   "pygments_lexer": "ipython3",
   "version": "3.8.0"
  }
 },
 "nbformat": 4,
 "nbformat_minor": 2
}
