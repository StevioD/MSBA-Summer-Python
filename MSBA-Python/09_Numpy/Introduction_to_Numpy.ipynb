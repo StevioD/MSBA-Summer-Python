{
 "cells": [
  {
   "cell_type": "code",
   "execution_count": null,
   "id": "0ac9ac31",
   "metadata": {},
   "outputs": [],
   "source": [
    "import numpy as np\n",
    "from PIL import Image"
   ]
  },
  {
   "cell_type": "markdown",
   "id": "f8d0cf57",
   "metadata": {},
   "source": [
    "# Numpy Introduction\n",
    "\n",
    "Numpy is a package centered around n-dimensional arrays or ndarrays. While similar the ordinary python lists they  are different in a few key ways. They are designed for fast numeric operations. Two of the most important differences between ndarray and list are immutable and are built of homogeneous data types. Meaning you cannot change the size or shape of the array and they are all one data type, e.g. integers or floats. It's also immportant to keep the n-dimensional aspect in mind. The idea comes straight from mathematics. A line is one dimensional, a plane is two dimensional, and space is three dimensional and so on. Let's dive into some examples.  \n"
   ]
  },
  {
   "cell_type": "markdown",
   "id": "35a8a100",
   "metadata": {},
   "source": [
    "# Creating ndarrays\n",
    "There are many ways to create array. We'll cover the most common below."
   ]
  },
  {
   "cell_type": "markdown",
   "id": "a4f27814",
   "metadata": {},
   "source": [
    "## Converting from a list"
   ]
  },
  {
   "cell_type": "code",
   "execution_count": null,
   "id": "173ce113",
   "metadata": {},
   "outputs": [],
   "source": [
    "# Examples of list of different dimensions.\n",
    "\n",
    "# a list\n",
    "list_1d = [1, 2, 3, 4, 5, 6, 7, 8, 9] \n",
    "\n",
    "# a list of lists\n",
    "list_2d = [ [1, 2, 3], \n",
    "            [4, 5, 6],\n",
    "            [7, 8, 9] ]\n",
    "\n",
    "# a list of lists of lists...\n",
    "list_3d = [ [ [1, 2, 3], \n",
    "              [4, 5, 6],\n",
    "              [7, 8, 9]],\n",
    "                 \n",
    "            [[1, 2, 3], \n",
    "             [4, 5, 6],\n",
    "             [7, 8, 9]],\n",
    "                \n",
    "            [[1, 2, 3], \n",
    "             [4, 5, 6],\n",
    "             [7, 8, 9]] ]"
   ]
  },
  {
   "cell_type": "code",
   "execution_count": null,
   "id": "ebf6ffbf",
   "metadata": {},
   "outputs": [],
   "source": [
    "# You can then convert these n-dimensional lists into ndarrays using the np.array method.\n",
    "\n",
    "array_1d = np.array(list_1d)\n",
    "array_2d = np.array(list_2d)\n",
    "array_3d = np.array(list_3d)"
   ]
  },
  {
   "cell_type": "markdown",
   "id": "65e8be7f",
   "metadata": {},
   "source": [
    "Now that we've converted these into ndarray we'll take a look at a few attributes of ndarray that can help you to visualize their structure."
   ]
  },
  {
   "cell_type": "markdown",
   "id": "f16fa749",
   "metadata": {},
   "source": [
    "### Dimension\n",
    "If you're ever unsure of you array dimension you can use the name_of_array.ndim attribute"
   ]
  },
  {
   "cell_type": "code",
   "execution_count": null,
   "id": "eb366456",
   "metadata": {},
   "outputs": [],
   "source": [
    "print(\"Number of dimensions: \" + str(array_1d.ndim))"
   ]
  },
  {
   "cell_type": "code",
   "execution_count": null,
   "id": "681acae6",
   "metadata": {},
   "outputs": [],
   "source": [
    "print(\"Number of dimensions: \" + str(array_2d.ndim))"
   ]
  },
  {
   "cell_type": "code",
   "execution_count": null,
   "id": "808965c7",
   "metadata": {},
   "outputs": [],
   "source": [
    "print(\"Number of dimensions: \" + str(array_3d.ndim))"
   ]
  },
  {
   "cell_type": "markdown",
   "id": "8ea81230",
   "metadata": {},
   "source": [
    "### Shape\n",
    "The shape attribute allows you to get the layout of the array. Kind of like the height, width, and length of the ndarry."
   ]
  },
  {
   "cell_type": "code",
   "execution_count": null,
   "id": "a0ee04eb",
   "metadata": {},
   "outputs": [],
   "source": [
    "array_1d.shape"
   ]
  },
  {
   "cell_type": "code",
   "execution_count": null,
   "id": "fc91efe1",
   "metadata": {},
   "outputs": [],
   "source": [
    "array_2d.shape"
   ]
  },
  {
   "cell_type": "code",
   "execution_count": null,
   "id": "929c14c4",
   "metadata": {},
   "outputs": [],
   "source": [
    "array_3d.shape"
   ]
  },
  {
   "cell_type": "markdown",
   "id": "efa5a94a",
   "metadata": {},
   "source": [
    "### Size\n",
    "You can get the total number of elements in your array using the size attribute."
   ]
  },
  {
   "cell_type": "code",
   "execution_count": null,
   "id": "c53d7133",
   "metadata": {},
   "outputs": [],
   "source": [
    "print(\"Size: \" + str(array_1d.size))"
   ]
  },
  {
   "cell_type": "code",
   "execution_count": null,
   "id": "47a601d9",
   "metadata": {},
   "outputs": [],
   "source": [
    "print(\"Size: \" + str(array_2d.size))"
   ]
  },
  {
   "cell_type": "code",
   "execution_count": null,
   "id": "b6a0ce6e",
   "metadata": {},
   "outputs": [],
   "source": [
    "print(\"Size: \" + str(array_3d.size))"
   ]
  },
  {
   "cell_type": "markdown",
   "id": "3afe0ea7",
   "metadata": {},
   "source": [
    "## Generating ndarry \n",
    "There are several ways to generate ndarrays based on conditions. We'll cover zero, range of values, and radomly generated arrays."
   ]
  },
  {
   "cell_type": "markdown",
   "id": "996e14f2",
   "metadata": {},
   "source": [
    "### Zero Array"
   ]
  },
  {
   "cell_type": "code",
   "execution_count": null,
   "id": "567f2bcd",
   "metadata": {},
   "outputs": [],
   "source": [
    "zero_1d = np.zeros(3)\n",
    "zero_2d = np.zeros((3, 3))\n",
    "zero_3d = np.zeros((3, 3, 3))"
   ]
  },
  {
   "cell_type": "code",
   "execution_count": null,
   "id": "45e359f4",
   "metadata": {},
   "outputs": [],
   "source": [
    "zero_1d"
   ]
  },
  {
   "cell_type": "code",
   "execution_count": null,
   "id": "d34c2561",
   "metadata": {},
   "outputs": [],
   "source": [
    "zero_2d"
   ]
  },
  {
   "cell_type": "code",
   "execution_count": null,
   "id": "4b5b85ed",
   "metadata": {},
   "outputs": [],
   "source": [
    "zero_3d"
   ]
  },
  {
   "cell_type": "markdown",
   "id": "72b2e78c",
   "metadata": {},
   "source": [
    "### Range Array"
   ]
  },
  {
   "cell_type": "code",
   "execution_count": null,
   "id": "b8add54a",
   "metadata": {},
   "outputs": [],
   "source": [
    "range_1d = np.arange(3)\n",
    "range_1d"
   ]
  },
  {
   "cell_type": "code",
   "execution_count": null,
   "id": "9b7c8caf",
   "metadata": {},
   "outputs": [],
   "source": [
    "# We can change the shape using the reshape method\n",
    "range_2d = np.arange(9).reshape(3, 3)\n",
    "range_2d"
   ]
  },
  {
   "cell_type": "code",
   "execution_count": null,
   "id": "881fc489",
   "metadata": {},
   "outputs": [],
   "source": [
    "range_3d = np.arange(27).reshape(3, 3, 3)\n",
    "range_3d"
   ]
  },
  {
   "cell_type": "markdown",
   "id": "fee6d8e9",
   "metadata": {},
   "source": [
    "### Random Array"
   ]
  },
  {
   "cell_type": "code",
   "execution_count": null,
   "id": "7c1f4e84",
   "metadata": {},
   "outputs": [],
   "source": [
    "rand_1d = np.random.randn(3)\n",
    "rand_1d"
   ]
  },
  {
   "cell_type": "code",
   "execution_count": null,
   "id": "30bc3311",
   "metadata": {},
   "outputs": [],
   "source": [
    "rand_2d = np.random.randn(3, 3)\n",
    "rand_2d"
   ]
  },
  {
   "cell_type": "code",
   "execution_count": null,
   "id": "02c78386",
   "metadata": {},
   "outputs": [],
   "source": [
    "# You can also change the type of an array using the astype method\n",
    "rand_3d = np.random.randn(3, 3, 3).astype(int)\n",
    "rand_3d"
   ]
  },
  {
   "cell_type": "markdown",
   "id": "1151b5e7",
   "metadata": {},
   "source": [
    "## Slicing and Indexing\n",
    "Slicing ndarray uses the bracket syntax and takes three types as input start:stop:step, an integer, or tuples."
   ]
  },
  {
   "cell_type": "code",
   "execution_count": null,
   "id": "956d172b",
   "metadata": {},
   "outputs": [],
   "source": [
    "# [start : stop : step] \n",
    "ex = np.arange(9)\n",
    "print(ex)\n",
    "print(ex[0:9:2]) # evens\n",
    "print(ex[1:0:2]) # odds"
   ]
  },
  {
   "cell_type": "code",
   "execution_count": null,
   "id": "61d23ad5",
   "metadata": {},
   "outputs": [],
   "source": [
    "# Integer\n",
    "for i in range(9):\n",
    "    print(ex[i])"
   ]
  },
  {
   "cell_type": "code",
   "execution_count": null,
   "id": "30a40fef",
   "metadata": {},
   "outputs": [],
   "source": [
    "# Tuples can be used for indexing multi dimensional arrays\n",
    "\n",
    "ex2d = ex.reshape(3,3)\n",
    "ex2d"
   ]
  },
  {
   "cell_type": "code",
   "execution_count": null,
   "id": "3a211cb2",
   "metadata": {},
   "outputs": [],
   "source": [
    "# Indexing takes a tuple (row, col) starting at 0\n",
    "ex2d[(1, 2)]"
   ]
  },
  {
   "cell_type": "markdown",
   "id": "795e7ec7",
   "metadata": {},
   "source": [
    "The multiple dimensions of ndarrays can make slicing complicated, but more examples can be found at [numpy index docs](https://numpy.org/doc/stable/reference/arrays.indexing.html) and [a good tutorial](https://www.tutorialspoint.com/numpy/numpy_indexing_and_slicing.htm)"
   ]
  },
  {
   "cell_type": "markdown",
   "id": "9451eb8b",
   "metadata": {},
   "source": [
    "## Ndarray to Image\n",
    "One fun application of ndarray is to represent images. "
   ]
  },
  {
   "cell_type": "code",
   "execution_count": null,
   "id": "b1a882b8",
   "metadata": {},
   "outputs": [],
   "source": [
    "# Here we are going to use the PIL package to convert and display our ndarray as an image\n",
    "img_array = np.zeros(65536, dtype=np.uint8).reshape(256, 256)\n",
    "img = Image.fromarray(img_array)\n",
    "display(img)"
   ]
  },
  {
   "cell_type": "markdown",
   "id": "f79d246e",
   "metadata": {},
   "source": [
    "Here is a good place to introduce a few operations on ndarrays"
   ]
  },
  {
   "cell_type": "code",
   "execution_count": null,
   "id": "f83dd00a",
   "metadata": {},
   "outputs": [],
   "source": [
    "# You can use normal arithmetic operations on ndarray\n",
    "img_array = img_array + 200\n",
    "img_array"
   ]
  },
  {
   "cell_type": "code",
   "execution_count": null,
   "id": "80fbde46",
   "metadata": {},
   "outputs": [],
   "source": [
    "display(Image.fromarray(img_array))"
   ]
  },
  {
   "cell_type": "code",
   "execution_count": null,
   "id": "8c136d55",
   "metadata": {},
   "outputs": [],
   "source": [
    "display(Image.fromarray(img_array - 100))"
   ]
  },
  {
   "cell_type": "code",
   "execution_count": null,
   "id": "d2bd4b8e",
   "metadata": {},
   "outputs": [],
   "source": [
    "display(Image.fromarray(img_array % 2))"
   ]
  },
  {
   "cell_type": "code",
   "execution_count": null,
   "id": "924783dd",
   "metadata": {},
   "outputs": [],
   "source": [
    "img_array *= 0"
   ]
  },
  {
   "cell_type": "code",
   "execution_count": null,
   "id": "22e0baf8",
   "metadata": {},
   "outputs": [],
   "source": [
    "# You can also use loops to work with ndarrays using the np.nditer method\n",
    "i = 0\n",
    "for pixel in np.nditer(img_array, op_flags = ['readwrite']):\n",
    "    pixel[...] += np.uint8(225)\n",
    "    i += 1\n",
    "    if i == 32768: break\n",
    "    \n",
    "display(Image.fromarray(img_array))"
   ]
  },
  {
   "cell_type": "markdown",
   "id": "7e079066",
   "metadata": {},
   "source": [
    "## Operations on ndarrays\n",
    "Besides the basic operations above numpy also provides many mathematical functions and array to array operations depending on the shape and type of the array."
   ]
  },
  {
   "cell_type": "code",
   "execution_count": null,
   "id": "88dae556",
   "metadata": {},
   "outputs": [],
   "source": [
    "# Now we can use PIL library to read in and resize an image\n",
    "spike_img = Image.open('images/spikes.jpeg').convert('L').resize((256, 256))\n",
    "spike_array = np.array(spike_img)\n",
    "\n",
    "display(spike_img)"
   ]
  },
  {
   "cell_type": "code",
   "execution_count": null,
   "id": "e9a51105",
   "metadata": {},
   "outputs": [],
   "source": [
    "face_img = Image.open('images/face.jpeg').convert('L').resize((256, 256))\n",
    "face_array = np.array(face_img)\n",
    "\n",
    "display(face_img)"
   ]
  },
  {
   "cell_type": "code",
   "execution_count": null,
   "id": "8348c029",
   "metadata": {},
   "outputs": [],
   "source": [
    "# Now that the images have been read in and converted to ndarrays we can do some array to array operations\n",
    "\n",
    "combined_img = Image.fromarray(spike_array + face_array)\n",
    "\n",
    "display(combined_img)"
   ]
  },
  {
   "cell_type": "markdown",
   "id": "113c2166",
   "metadata": {},
   "source": [
    "## Broadcasting\n",
    "\n",
    "This is a good time to bring up an important idea in ndarrays, that is [broadcasting](https://numpy.org/doc/stable/user/basics.broadcasting.html). Which can be used to do operations on arrays of different shapes. "
   ]
  },
  {
   "cell_type": "code",
   "execution_count": null,
   "id": "07aa4ad8",
   "metadata": {},
   "outputs": [],
   "source": [
    "# Lets say you have a three dimensional array and you'd like to zero the bottom right corner\n",
    "arr3 = np.arange(27).reshape(3, 3, 3) + 1\n",
    "arr3"
   ]
  },
  {
   "cell_type": "code",
   "execution_count": null,
   "id": "be1d68e7",
   "metadata": {},
   "outputs": [],
   "source": [
    "arr2 = np.array([[ 1,  1,  1], [ 1,  0,  0], [ 1,  0,  0]])\n",
    "arr2"
   ]
  },
  {
   "cell_type": "code",
   "execution_count": null,
   "id": "0d47166b",
   "metadata": {},
   "outputs": [],
   "source": [
    "arr3 * arr2"
   ]
  },
  {
   "cell_type": "code",
   "execution_count": null,
   "id": "dc242617",
   "metadata": {},
   "outputs": [],
   "source": [
    "print(arr2.shape)\n",
    "print(arr3.shape)"
   ]
  },
  {
   "cell_type": "markdown",
   "id": "65acec34",
   "metadata": {},
   "source": [
    "Normally operations on arrays of different sizes wouldn't be allowed, but numpy replicate the 2d array to match the shape of the other."
   ]
  },
  {
   "cell_type": "code",
   "execution_count": null,
   "id": "f3d939d5",
   "metadata": {},
   "outputs": [],
   "source": [
    "display(Image.open('images/broadcasting.jpg'))"
   ]
  },
  {
   "cell_type": "markdown",
   "id": "d76ee200",
   "metadata": {},
   "source": [
    "# IN CLASS EXERCISES\n",
    "Here's a few questions to get you started. Most cover methods and functions not used in class so it's a good opportunity to practice your google-fu!"
   ]
  },
  {
   "cell_type": "code",
   "execution_count": null,
   "id": "a44408c1",
   "metadata": {},
   "outputs": [],
   "source": [
    "# How to find common values between two arrays?\n",
    "\n",
    "a = np.random.randint(100, size=(4, 10))\n",
    "b = np.random.randint(100, size=(4, 10))\n",
    "\n"
   ]
  },
  {
   "cell_type": "code",
   "execution_count": null,
   "id": "01cb8d05",
   "metadata": {},
   "outputs": [],
   "source": [
    "# Create random vector of size 10 and replace the maximum value by 0.\n",
    "\n"
   ]
  },
  {
   "cell_type": "code",
   "execution_count": null,
   "id": "4605485f",
   "metadata": {},
   "outputs": [],
   "source": [
    "# Create a 10x10 ndarray with row values ranging from 0 to 9\n",
    "\n"
   ]
  }
 ],
 "metadata": {
  "kernelspec": {
   "display_name": "Python 3",
   "language": "python",
   "name": "python3"
  },
  "language_info": {
   "codemirror_mode": {
    "name": "ipython",
    "version": 3
   },
   "file_extension": ".py",
   "mimetype": "text/x-python",
   "name": "python",
   "nbconvert_exporter": "python",
   "pygments_lexer": "ipython3",
   "version": "3.8.5"
  }
 },
 "nbformat": 4,
 "nbformat_minor": 5
}
